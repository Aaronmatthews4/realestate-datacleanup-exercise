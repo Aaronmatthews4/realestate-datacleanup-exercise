{
 "cells": [
  {
   "cell_type": "markdown",
   "id": "4fe6dfbf",
   "metadata": {},
   "source": []
  },
  {
   "attachments": {},
   "cell_type": "markdown",
   "id": "innocent-university",
   "metadata": {},
   "source": [
    "# Real Estate Clean up\n",
    "\n",
    "This is a real dataset, and it was downloaded using web scraping techniques. The data contains registers from **Fotocasa** which is one of the most popular real estate websites in Spain. Please, do not do this (web scraping) unless it is for academic purposes.\n",
    "\n",
    "The dataset was downloaded a few years ago by Henry Navarro, and in no case were economic returns obtained from it.\n",
    "\n",
    "It contains thousands of data from real houses published on the web www.fotocasa.com. Your goal is to extract as much information as possible with the knowledge you have so far about data science, for example what is the most expensive house in the entire dataset?\n",
    "\n",
    "Let's start with precisely that question... Good luck!"
   ]
  },
  {
   "attachments": {},
   "cell_type": "markdown",
   "id": "multiple-glass",
   "metadata": {},
   "source": [
    "#### Exercise 00. Read the dataset assets/real_estate.csv and try to visualize the table (★☆☆)"
   ]
  },
  {
   "cell_type": "code",
   "execution_count": 1,
   "id": "frank-heath",
   "metadata": {},
   "outputs": [
    {
     "data": {
      "text/html": [
       "<div>\n",
       "<style scoped>\n",
       "    .dataframe tbody tr th:only-of-type {\n",
       "        vertical-align: middle;\n",
       "    }\n",
       "\n",
       "    .dataframe tbody tr th {\n",
       "        vertical-align: top;\n",
       "    }\n",
       "\n",
       "    .dataframe thead th {\n",
       "        text-align: right;\n",
       "    }\n",
       "</style>\n",
       "<table border=\"1\" class=\"dataframe\">\n",
       "  <thead>\n",
       "    <tr style=\"text-align: right;\">\n",
       "      <th></th>\n",
       "      <th>Unnamed: 0</th>\n",
       "      <th>id_realEstates</th>\n",
       "      <th>isNew</th>\n",
       "      <th>realEstate_name</th>\n",
       "      <th>phone_realEstate</th>\n",
       "      <th>url_inmueble</th>\n",
       "      <th>rooms</th>\n",
       "      <th>bathrooms</th>\n",
       "      <th>surface</th>\n",
       "      <th>price</th>\n",
       "      <th>...</th>\n",
       "      <th>level4Id</th>\n",
       "      <th>level5Id</th>\n",
       "      <th>level6Id</th>\n",
       "      <th>level7Id</th>\n",
       "      <th>level8Id</th>\n",
       "      <th>accuracy</th>\n",
       "      <th>latitude</th>\n",
       "      <th>longitude</th>\n",
       "      <th>zipCode</th>\n",
       "      <th>customZone</th>\n",
       "    </tr>\n",
       "  </thead>\n",
       "  <tbody>\n",
       "    <tr>\n",
       "      <th>0</th>\n",
       "      <td>1</td>\n",
       "      <td>153771986</td>\n",
       "      <td>False</td>\n",
       "      <td>ferrari 57 inmobiliaria</td>\n",
       "      <td>912177526.0</td>\n",
       "      <td>https://www.fotocasa.es/es/comprar/vivienda/ma...</td>\n",
       "      <td>3.0</td>\n",
       "      <td>2.0</td>\n",
       "      <td>103.0</td>\n",
       "      <td>195000</td>\n",
       "      <td>...</td>\n",
       "      <td>0</td>\n",
       "      <td>0</td>\n",
       "      <td>0</td>\n",
       "      <td>0</td>\n",
       "      <td>0</td>\n",
       "      <td>0</td>\n",
       "      <td>40,2948276786438</td>\n",
       "      <td>-3,44402412135624</td>\n",
       "      <td>NaN</td>\n",
       "      <td>NaN</td>\n",
       "    </tr>\n",
       "    <tr>\n",
       "      <th>1</th>\n",
       "      <td>2</td>\n",
       "      <td>153867863</td>\n",
       "      <td>False</td>\n",
       "      <td>tecnocasa fuenlabrada ferrocarril</td>\n",
       "      <td>916358736.0</td>\n",
       "      <td>https://www.fotocasa.es/es/comprar/vivienda/ma...</td>\n",
       "      <td>3.0</td>\n",
       "      <td>1.0</td>\n",
       "      <td>NaN</td>\n",
       "      <td>89000</td>\n",
       "      <td>...</td>\n",
       "      <td>0</td>\n",
       "      <td>0</td>\n",
       "      <td>0</td>\n",
       "      <td>0</td>\n",
       "      <td>0</td>\n",
       "      <td>1</td>\n",
       "      <td>40,28674</td>\n",
       "      <td>-3,79351</td>\n",
       "      <td>NaN</td>\n",
       "      <td>NaN</td>\n",
       "    </tr>\n",
       "    <tr>\n",
       "      <th>2</th>\n",
       "      <td>3</td>\n",
       "      <td>153430440</td>\n",
       "      <td>False</td>\n",
       "      <td>look find boadilla</td>\n",
       "      <td>916350408.0</td>\n",
       "      <td>https://www.fotocasa.es/es/comprar/vivienda/ma...</td>\n",
       "      <td>2.0</td>\n",
       "      <td>2.0</td>\n",
       "      <td>99.0</td>\n",
       "      <td>390000</td>\n",
       "      <td>...</td>\n",
       "      <td>0</td>\n",
       "      <td>0</td>\n",
       "      <td>0</td>\n",
       "      <td>0</td>\n",
       "      <td>0</td>\n",
       "      <td>0</td>\n",
       "      <td>40,4115646786438</td>\n",
       "      <td>-3,90662252135624</td>\n",
       "      <td>NaN</td>\n",
       "      <td>NaN</td>\n",
       "    </tr>\n",
       "    <tr>\n",
       "      <th>3</th>\n",
       "      <td>4</td>\n",
       "      <td>152776331</td>\n",
       "      <td>False</td>\n",
       "      <td>tecnocasa fuenlabrada ferrocarril</td>\n",
       "      <td>916358736.0</td>\n",
       "      <td>https://www.fotocasa.es/es/comprar/vivienda/ma...</td>\n",
       "      <td>3.0</td>\n",
       "      <td>1.0</td>\n",
       "      <td>86.0</td>\n",
       "      <td>89000</td>\n",
       "      <td>...</td>\n",
       "      <td>0</td>\n",
       "      <td>0</td>\n",
       "      <td>0</td>\n",
       "      <td>0</td>\n",
       "      <td>0</td>\n",
       "      <td>0</td>\n",
       "      <td>40,2853785786438</td>\n",
       "      <td>-3,79508142135624</td>\n",
       "      <td>NaN</td>\n",
       "      <td>NaN</td>\n",
       "    </tr>\n",
       "    <tr>\n",
       "      <th>4</th>\n",
       "      <td>5</td>\n",
       "      <td>153180188</td>\n",
       "      <td>False</td>\n",
       "      <td>ferrari 57 inmobiliaria</td>\n",
       "      <td>912177526.0</td>\n",
       "      <td>https://www.fotocasa.es/es/comprar/vivienda/ma...</td>\n",
       "      <td>2.0</td>\n",
       "      <td>2.0</td>\n",
       "      <td>106.0</td>\n",
       "      <td>172000</td>\n",
       "      <td>...</td>\n",
       "      <td>0</td>\n",
       "      <td>0</td>\n",
       "      <td>0</td>\n",
       "      <td>0</td>\n",
       "      <td>0</td>\n",
       "      <td>0</td>\n",
       "      <td>40,2998774864376</td>\n",
       "      <td>-3,45226301356237</td>\n",
       "      <td>NaN</td>\n",
       "      <td>NaN</td>\n",
       "    </tr>\n",
       "    <tr>\n",
       "      <th>...</th>\n",
       "      <td>...</td>\n",
       "      <td>...</td>\n",
       "      <td>...</td>\n",
       "      <td>...</td>\n",
       "      <td>...</td>\n",
       "      <td>...</td>\n",
       "      <td>...</td>\n",
       "      <td>...</td>\n",
       "      <td>...</td>\n",
       "      <td>...</td>\n",
       "      <td>...</td>\n",
       "      <td>...</td>\n",
       "      <td>...</td>\n",
       "      <td>...</td>\n",
       "      <td>...</td>\n",
       "      <td>...</td>\n",
       "      <td>...</td>\n",
       "      <td>...</td>\n",
       "      <td>...</td>\n",
       "      <td>...</td>\n",
       "      <td>...</td>\n",
       "    </tr>\n",
       "    <tr>\n",
       "      <th>15330</th>\n",
       "      <td>15331</td>\n",
       "      <td>153901377</td>\n",
       "      <td>False</td>\n",
       "      <td>infocasa consulting</td>\n",
       "      <td>911360461.0</td>\n",
       "      <td>https://www.fotocasa.es/es/comprar/vivienda/ma...</td>\n",
       "      <td>2.0</td>\n",
       "      <td>1.0</td>\n",
       "      <td>96.0</td>\n",
       "      <td>259470</td>\n",
       "      <td>...</td>\n",
       "      <td>0</td>\n",
       "      <td>0</td>\n",
       "      <td>0</td>\n",
       "      <td>0</td>\n",
       "      <td>0</td>\n",
       "      <td>0</td>\n",
       "      <td>40,45416</td>\n",
       "      <td>-3,70286</td>\n",
       "      <td>NaN</td>\n",
       "      <td>NaN</td>\n",
       "    </tr>\n",
       "    <tr>\n",
       "      <th>15331</th>\n",
       "      <td>15332</td>\n",
       "      <td>150394373</td>\n",
       "      <td>False</td>\n",
       "      <td>inmobiliaria pulpon</td>\n",
       "      <td>912788039.0</td>\n",
       "      <td>https://www.fotocasa.es/es/comprar/vivienda/ma...</td>\n",
       "      <td>3.0</td>\n",
       "      <td>1.0</td>\n",
       "      <td>150.0</td>\n",
       "      <td>165000</td>\n",
       "      <td>...</td>\n",
       "      <td>0</td>\n",
       "      <td>0</td>\n",
       "      <td>0</td>\n",
       "      <td>0</td>\n",
       "      <td>0</td>\n",
       "      <td>0</td>\n",
       "      <td>40,36652</td>\n",
       "      <td>-3,48951</td>\n",
       "      <td>NaN</td>\n",
       "      <td>NaN</td>\n",
       "    </tr>\n",
       "    <tr>\n",
       "      <th>15332</th>\n",
       "      <td>15333</td>\n",
       "      <td>153901397</td>\n",
       "      <td>False</td>\n",
       "      <td>tecnocasa torrelodones</td>\n",
       "      <td>912780348.0</td>\n",
       "      <td>https://www.fotocasa.es/es/comprar/vivienda/ma...</td>\n",
       "      <td>4.0</td>\n",
       "      <td>2.0</td>\n",
       "      <td>175.0</td>\n",
       "      <td>495000</td>\n",
       "      <td>...</td>\n",
       "      <td>0</td>\n",
       "      <td>0</td>\n",
       "      <td>0</td>\n",
       "      <td>0</td>\n",
       "      <td>0</td>\n",
       "      <td>0</td>\n",
       "      <td>40,57444</td>\n",
       "      <td>-3,92124</td>\n",
       "      <td>NaN</td>\n",
       "      <td>NaN</td>\n",
       "    </tr>\n",
       "    <tr>\n",
       "      <th>15333</th>\n",
       "      <td>15334</td>\n",
       "      <td>152607440</td>\n",
       "      <td>False</td>\n",
       "      <td>inmobiliaria pulpon</td>\n",
       "      <td>912788039.0</td>\n",
       "      <td>https://www.fotocasa.es/es/comprar/vivienda/ma...</td>\n",
       "      <td>3.0</td>\n",
       "      <td>2.0</td>\n",
       "      <td>101.0</td>\n",
       "      <td>195000</td>\n",
       "      <td>...</td>\n",
       "      <td>0</td>\n",
       "      <td>0</td>\n",
       "      <td>0</td>\n",
       "      <td>0</td>\n",
       "      <td>0</td>\n",
       "      <td>0</td>\n",
       "      <td>40,36967</td>\n",
       "      <td>-3,48105</td>\n",
       "      <td>NaN</td>\n",
       "      <td>NaN</td>\n",
       "    </tr>\n",
       "    <tr>\n",
       "      <th>15334</th>\n",
       "      <td>15335</td>\n",
       "      <td>153901356</td>\n",
       "      <td>False</td>\n",
       "      <td>infocasa consulting</td>\n",
       "      <td>911360461.0</td>\n",
       "      <td>https://www.fotocasa.es/es/comprar/vivienda/ma...</td>\n",
       "      <td>3.0</td>\n",
       "      <td>2.0</td>\n",
       "      <td>152.0</td>\n",
       "      <td>765000</td>\n",
       "      <td>...</td>\n",
       "      <td>0</td>\n",
       "      <td>0</td>\n",
       "      <td>0</td>\n",
       "      <td>0</td>\n",
       "      <td>0</td>\n",
       "      <td>0</td>\n",
       "      <td>40,45773</td>\n",
       "      <td>-3,69068</td>\n",
       "      <td>NaN</td>\n",
       "      <td>NaN</td>\n",
       "    </tr>\n",
       "  </tbody>\n",
       "</table>\n",
       "<p>15335 rows × 37 columns</p>\n",
       "</div>"
      ],
      "text/plain": [
       "       Unnamed: 0  id_realEstates  isNew                    realEstate_name  \\\n",
       "0               1       153771986  False            ferrari 57 inmobiliaria   \n",
       "1               2       153867863  False  tecnocasa fuenlabrada ferrocarril   \n",
       "2               3       153430440  False                 look find boadilla   \n",
       "3               4       152776331  False  tecnocasa fuenlabrada ferrocarril   \n",
       "4               5       153180188  False            ferrari 57 inmobiliaria   \n",
       "...           ...             ...    ...                                ...   \n",
       "15330       15331       153901377  False                infocasa consulting   \n",
       "15331       15332       150394373  False                inmobiliaria pulpon   \n",
       "15332       15333       153901397  False             tecnocasa torrelodones   \n",
       "15333       15334       152607440  False                inmobiliaria pulpon   \n",
       "15334       15335       153901356  False                infocasa consulting   \n",
       "\n",
       "       phone_realEstate                                       url_inmueble  \\\n",
       "0           912177526.0  https://www.fotocasa.es/es/comprar/vivienda/ma...   \n",
       "1           916358736.0  https://www.fotocasa.es/es/comprar/vivienda/ma...   \n",
       "2           916350408.0  https://www.fotocasa.es/es/comprar/vivienda/ma...   \n",
       "3           916358736.0  https://www.fotocasa.es/es/comprar/vivienda/ma...   \n",
       "4           912177526.0  https://www.fotocasa.es/es/comprar/vivienda/ma...   \n",
       "...                 ...                                                ...   \n",
       "15330       911360461.0  https://www.fotocasa.es/es/comprar/vivienda/ma...   \n",
       "15331       912788039.0  https://www.fotocasa.es/es/comprar/vivienda/ma...   \n",
       "15332       912780348.0  https://www.fotocasa.es/es/comprar/vivienda/ma...   \n",
       "15333       912788039.0  https://www.fotocasa.es/es/comprar/vivienda/ma...   \n",
       "15334       911360461.0  https://www.fotocasa.es/es/comprar/vivienda/ma...   \n",
       "\n",
       "       rooms  bathrooms  surface   price  ... level4Id level5Id level6Id  \\\n",
       "0        3.0        2.0    103.0  195000  ...        0        0        0   \n",
       "1        3.0        1.0      NaN   89000  ...        0        0        0   \n",
       "2        2.0        2.0     99.0  390000  ...        0        0        0   \n",
       "3        3.0        1.0     86.0   89000  ...        0        0        0   \n",
       "4        2.0        2.0    106.0  172000  ...        0        0        0   \n",
       "...      ...        ...      ...     ...  ...      ...      ...      ...   \n",
       "15330    2.0        1.0     96.0  259470  ...        0        0        0   \n",
       "15331    3.0        1.0    150.0  165000  ...        0        0        0   \n",
       "15332    4.0        2.0    175.0  495000  ...        0        0        0   \n",
       "15333    3.0        2.0    101.0  195000  ...        0        0        0   \n",
       "15334    3.0        2.0    152.0  765000  ...        0        0        0   \n",
       "\n",
       "      level7Id level8Id accuracy          latitude          longitude zipCode  \\\n",
       "0            0        0        0  40,2948276786438  -3,44402412135624     NaN   \n",
       "1            0        0        1          40,28674           -3,79351     NaN   \n",
       "2            0        0        0  40,4115646786438  -3,90662252135624     NaN   \n",
       "3            0        0        0  40,2853785786438  -3,79508142135624     NaN   \n",
       "4            0        0        0  40,2998774864376  -3,45226301356237     NaN   \n",
       "...        ...      ...      ...               ...                ...     ...   \n",
       "15330        0        0        0          40,45416           -3,70286     NaN   \n",
       "15331        0        0        0          40,36652           -3,48951     NaN   \n",
       "15332        0        0        0          40,57444           -3,92124     NaN   \n",
       "15333        0        0        0          40,36967           -3,48105     NaN   \n",
       "15334        0        0        0          40,45773           -3,69068     NaN   \n",
       "\n",
       "      customZone  \n",
       "0            NaN  \n",
       "1            NaN  \n",
       "2            NaN  \n",
       "3            NaN  \n",
       "4            NaN  \n",
       "...          ...  \n",
       "15330        NaN  \n",
       "15331        NaN  \n",
       "15332        NaN  \n",
       "15333        NaN  \n",
       "15334        NaN  \n",
       "\n",
       "[15335 rows x 37 columns]"
      ]
     },
     "execution_count": 1,
     "metadata": {},
     "output_type": "execute_result"
    }
   ],
   "source": [
    "import pandas as pd\n",
    "\n",
    "# This CSV file contains semicolons instead of comas as separator\n",
    "ds = pd.read_csv('assets/real_estate.csv', sep=';')\n",
    "ds"
   ]
  },
  {
   "attachments": {},
   "cell_type": "markdown",
   "id": "latin-guest",
   "metadata": {},
   "source": [
    "#### Exercise 01. Which is the most expensive house in the dataset? (★☆☆)\n",
    "\n",
    "Print the address and the price of the selected house. For example:\n",
    "\n",
    "`The house with address General Street Nº5 is the most expensive and its price is 5000000 USD`"
   ]
  },
  {
   "cell_type": "code",
   "execution_count": null,
   "id": "developing-optimum",
   "metadata": {},
   "outputs": [],
   "source": [
    "# The house with address El Escorial is the most expensive and its price is $8500000 USD"
   ]
  },
  {
   "cell_type": "code",
   "execution_count": 1,
   "id": "ed529ee7",
   "metadata": {},
   "outputs": [
    {
     "name": "stdout",
     "output_type": "stream",
     "text": [
      "address: El Escorial\n",
      "price: $8500000\n"
     ]
    }
   ],
   "source": [
    "import pandas as pd\n",
    "\n",
    "df = pd.read_csv('assets/real_estate.csv', sep=';')\n",
    "\n",
    "most_expensive = df.loc[df['price'].idxmax()]\n",
    "\n",
    "print(f\"address: {most_expensive['address']}\")\n",
    "print(f\"price: ${most_expensive['price']}\")"
   ]
  },
  {
   "attachments": {},
   "cell_type": "markdown",
   "id": "lesser-cosmetic",
   "metadata": {},
   "source": [
    "#### Exercise 02. Which is the cheapest house in the dataset? (★☆☆)\n",
    "\n",
    "Print the address and the price of the selected house. For example:\n",
    "\n",
    "`The house with address Concrete Street Nº1 is the cheapest and its price is 12000 USD`"
   ]
  },
  {
   "cell_type": "code",
   "execution_count": null,
   "id": "lovely-oasis",
   "metadata": {},
   "outputs": [],
   "source": [
    "# The house with address Parla is the cheapest and its price is 0$"
   ]
  },
  {
   "cell_type": "code",
   "execution_count": null,
   "id": "a98e0a28",
   "metadata": {},
   "outputs": [],
   "source": [
    "import pandas as pd\n",
    "\n",
    "df = pd.read_csv('assets/real_estate.csv', sep=';')\n",
    "\n",
    "cheapest_house = df.loc[df['price'].idxmin()]\n",
    "print(f\"address: {cheapest_house['address']}\")\n",
    "print(f\"price: ${cheapest_house['price']}\")"
   ]
  },
  {
   "attachments": {},
   "cell_type": "markdown",
   "id": "compliant-fellowship",
   "metadata": {},
   "source": [
    "#### Exercise 03. Which is the biggest and the smallest house in the dataset? (★☆☆)\n",
    "\n",
    "Print both the address and the surface of the selected houses. For example:\n",
    "\n",
    "`The biggest house is located on Yukka Street Nº10 and its surface is 5000 meters`\n",
    "\n",
    "`The smallest house is located on County Road 1 N and its surface is 200 meters`"
   ]
  },
  {
   "cell_type": "code",
   "execution_count": null,
   "id": "every-tiffany",
   "metadata": {},
   "outputs": [],
   "source": [
    "# The biggest house is located on Sevilla la Nueva and its surface is 249000 meters\n",
    "# The smallest house is located on Calle Amparo, Madrid Capital and its surface is 15 meters"
   ]
  },
  {
   "cell_type": "code",
   "execution_count": null,
   "id": "e1260e6a",
   "metadata": {},
   "outputs": [],
   "source": [
    "import pandas as pd\n",
    "\n",
    "df = pd.read_csv('assets/real_estate.csv', sep=';')\n",
    "\n",
    "\n",
    "biggest_house = df.loc[df['surface'].idxmax()]\n",
    "\n",
    "\n",
    "smallest_house = df.loc[df['surface'].idxmin()]\n",
    "\n",
    "\n",
    "print(\"Biggest House:\")\n",
    "print(f\"Address: {biggest_house['address']}\")\n",
    "print(f\"Surface: {biggest_house['surface']}\")\n",
    "\n",
    "print(\"\\nSmallest House:\")\n",
    "print(f\"Address: {smallest_house['address']}\")\n",
    "print(f\"Surface: {smallest_house['surface']}\")"
   ]
  },
  {
   "attachments": {},
   "cell_type": "markdown",
   "id": "danish-spirit",
   "metadata": {},
   "source": [
    "#### Exercise 04. How many populations (level5 column) the dataset contains? (★☆☆)\n",
    "\n",
    "Print the names of the populations with a comma as a separator. For example:\n",
    "\n",
    "`> print(populations)`\n",
    "\n",
    "`population1, population2, population3, ...`"
   ]
  },
  {
   "cell_type": "code",
   "execution_count": null,
   "id": "exciting-accreditation",
   "metadata": {},
   "outputs": [],
   "source": [
    "# Madrid Capital, San Sebastián de los Reyes, Torrejón de Ardoz, Torrejón de Ardoz, Fuentidueña de Tajo, Ribatejada, Fresno de Torote - Serracines, Ribatejada, Batres,  Madrid Capital,  Madrid Capital, Pinto, Parla, Humanes de Madrid, Arganda del Rey, Villaviciosa de Odón, Majadahonda, Fuenlabrada,  Madrid Capital, Torrejón de Ardoz, Torrejón de Ardoz,  Madrid Capital, Torrelodones,  Madrid Capital, Alcalá de Henares, Meco, Camarma de Esteruelas,  Madrid Capital,  Madrid Capital,  Madrid Capital,  Madrid Capital,  Madrid Capital,  Madrid Capital, Majadahonda, Alcalá de Henares, Alcobendas,  Madrid Capital, Alcalá de Henares, Alcalá de Henares, Camarma de Esteruelas, Villalbilla, Villalbilla, Alcobendas, Alcobendas, Alcobendas, Alcalá de Henares, Valdeavero, Alcalá de Henares,  Madrid Capital,  Madrid Capital,  Madrid Capital,  Madrid Capital,  Madrid Capital,  Madrid Capital,  Madrid Capital,  Madrid Capital,  Madrid Capital,  Madrid Capital,  Madrid Capital,  Madrid Capital,  Madrid Capital,  Madrid Capital,  Madrid Capital,  Madrid Capital, Torrelodones, Collado Villalba, Majadahonda, Las Rozas de Madrid, Alcalá de Henares, Las Rozas de Madrid, Las Rozas de Madrid, Las Rozas de Madrid, Las Rozas de Madrid, Las Rozas de Madrid, Las Rozas de Madrid, Las Rozas de Madrid, Las Rozas de Madrid,  Madrid Capital, Las Rozas de Madrid, Las Rozas de Madrid,  Madrid Capital, Torrejón de Ardoz, Las Rozas de Madrid, Las Rozas de Madrid,  Madrid Capital, Torrejón de Ardoz, Pozuelo de Alarcón,  Madrid Capital,  Madrid Capital, Las Rozas de Madrid, Rivas-vaciamadrid,  Madrid Capital, Moralzarzal,  Madrid Capital,  Madrid Capital,  Madrid Capital,  Madrid Capital,  Madrid Capital,  Madrid Capital,  Madrid Capital, Colmenar de Oreja,  Madrid Capital,  Madrid Capital,  Madrid Capital,  Madrid Capital,  Madrid Capital, Collado Mediano,  Madrid Capital,  Madrid Capital,  Madrid Capital, Collado Villalba,  Madrid Capital,  Madrid Capital,  Madrid Capital,  Madrid Capital,  Madrid Capital,  Madrid Capital,  Madrid Capital,  Madrid Capital, Pozuelo de Alarcón,  Madrid Capital,  Madrid Capital,  Madrid Capital, Pozuelo de Alarcón,  Madrid Capital,  Madrid Capital, Alcobendas, Pozuelo de Alarcón, Pozuelo de Alarcón,  Madrid Capital,  Madrid Capital,  Madrid Capital,  Madrid Capital,  Madrid Capital,  Madrid Capital,  Madrid Capital,  Madrid Capital,  Madrid Capital,  Madrid Capital, Alcobendas,  Madrid Capital,  Madrid Capital, Getafe,  Madrid Capital, Collado Villalba,  Madrid Capital,  Madrid Capital,  Madrid Capital,  Madrid Capital,  Madrid Capital,  Madrid Capital,  Madrid Capital,  Madrid Capital,  Madrid Capital, Arroyomolinos (Madrid), Coslada,  Madrid Capital,  Madrid Capital, Coslada, San Fernando de Henares,  Madrid Capital,  Madrid Capital, Guadalix de la Sierra, Torrejón de Ardoz,  Madrid Capital, Aranjuez, Torrejón de Ardoz,  Madrid Capital, Loeches,  Madrid Capital, Torrejón de Ardoz,  Madrid Capital, Getafe, Getafe,  Madrid Capital,  Madrid Capital, Pozuelo de Alarcón, Pozuelo de Alarcón,  Madrid Capital,  Madrid Capital, Pozuelo de Alarcón, Pozuelo de Alarcón, Torrejón de Ardoz, Moralzarzal, Pozuelo de Alarcón,  Madrid Capital,  Madrid Capital, Pozuelo de Alarcón, Moralzarzal, Pozuelo de Alarcón,  Madrid Capital,  Madrid Capital,  Madrid Capital,  Madrid Capital,  Madrid Capital,  Madrid Capital, Pozuelo de Alarcón, Las Rozas de Madrid,  Madrid Capital,  Madrid Capital,  Madrid Capital, Algete, Majadahonda, Moraleja de Enmedio,  Madrid Capital, El Escorial, Majadahonda, Valdemoro,  Madrid Capital, Fuenlabrada, Corpa, Alcorcón, Alcorcón, Majadahonda, Collado Villalba,  Madrid Capital,  Madrid Capital,  Madrid Capital,  Madrid Capital,  Madrid Capital,  Madrid Capital,  Madrid Capital, Alcalá de Henares,  Madrid Capital, Campo Real,  Madrid Capital,  Madrid Capital, Getafe, Alcorcón,  Madrid Capital, Arroyomolinos (Madrid), Griñón, Alcorcón, Móstoles, El Boalo - Cerceda – Mataelpino, San Agustín del Guadalix,  Madrid Capital, Alcobendas, Coslada,  Madrid Capital,  Madrid Capital, Meco, Ribatejada, Torrejón de Ardoz,  Madrid Capital, Alcalá de Henares,  Madrid Capital, Alcobendas,  Madrid Capital,  Madrid Capital,  Madrid Capital, Majadahonda, Fuenlabrada,  Madrid Capital, Las Rozas de Madrid, Rivas-vaciamadrid,  Madrid Capital, Valdemoro,  Madrid Capital, Boadilla del Monte,  Madrid Capital, Titulcia,  Madrid Capital,  Madrid Capital,  Madrid Capital,  Madrid Capital,  Madrid Capital,  Madrid Capital,  Madrid Capital,  Madrid Capital,  Madrid Capital,  Madrid Capital,  Madrid Capital,  Madrid Capital,  Madrid Capital,  Madrid Capital,  Madrid Capital,  Madrid Capital,  Madrid Capital,  Madrid Capital,  Madrid Capital,  Madrid Capital, Getafe,  Madrid Capital, Collado Villalba,  Madrid Capital,  Madrid Capital,  Madrid Capital,  Madrid Capital,  Madrid Capital,  Madrid Capital,  Madrid Capital,  Madrid Capital,  Madrid Capital, Arroyomolinos (Madrid), Coslada,  Madrid Capital,  Madrid Capital, Coslada, San Fernando de Henares,  Madrid Capital,  Madrid Capital, Guadalix de la Sierra, Torrejón de Ardoz,  Madrid Capital, Aranjuez, Torrejón de Ardoz,  Madrid Capital, Loeches,  Madrid Capital, Torrejón de Ardoz,  Madrid Capital, Getafe, Getafe,  Madrid Capital,  Madrid Capital, Pozuelo de Alarcón, Pozuelo de Alarcón,  Madrid Capital,  Madrid Capital, Pozuelo de Alarcón, Pozuelo de Alarcón, Torrejón de Ardoz, Moralzarzal, Pozuelo de Alarcón,  Madrid Capital,  Madrid Capital, Pozuelo de Alarcón, Moralzarzal, Pozuelo de Alarcón,  Madrid Capital,  Madrid Capital,  Madrid Capital,  Madrid Capital,  Madrid Capital,  Madrid Capital, Pozuelo de Alarcón, Las Rozas de Madrid,  Madrid Capital,  Madrid Capital,  Madrid Capital,  Madrid Capital,  Madrid Capital,  Madrid Capital, Pozuelo de Alarcón,  Madrid Capital,  Madrid Capital,  Madrid Capital, Pozuelo de Alarcón,  Madrid Capital,  Madrid Capital, Alcobendas, Pozuelo de Alarcón, Pozuelo de Alarcón,  Madrid Capital,  Madrid Capital,  Madrid Capital,  Madrid Capital,  Madrid Capital,  Madrid Capital,  Madrid Capital,  Madrid Capital,  Madrid Capital,  Madrid Capital, Alcobendas,  Madrid Capital,  Madrid Capital, Getafe,  Madrid Capital, Collado Villalba,  Madrid Capital,  Madrid Capital,  Madrid Capital,  Madrid Capital,  Madrid Capital,  Madrid Capital,  Madrid Capital,  Madrid Capital,  Madrid Capital, Arroyomolinos (Madrid), Coslada,  Madrid Capital,  Madrid Capital, Coslada, San Fernando de Henares,  Madrid Capital,  Madrid Capital, Guadalix de la Sierra, Torrejón de Ardoz,  Madrid Capital, Aranjuez, Torrejón de Ardoz,  Madrid Capital, Loeches,  Madrid Capital, Torrejón de Ardoz,  Madrid Capital, Getafe, Getafe,  Madrid Capital,  Madrid Capital, Pozuelo de Alarcón, Pozuelo de Alarcón,  Madrid Capital,  Madrid Capital, Pozuelo de Alarcón, Pozuelo de Alarcón, Torrejón de Ardoz, Moralzarzal, Pozuelo de Alarcón,  Madrid Capital,  Madrid Capital, Pozuelo de Alarcón, Moralzarzal, Pozuelo de Alarcón,  Madrid Capital,  Madrid Capital,  Madrid Capital,  Madrid Capital,  Madrid Capital,  Madrid Capital, Pozuelo de Alarcón, Las Rozas de Madrid,  Madrid Capital,  Madrid Capital,  Madrid Capital, Algete, Majadahonda, Moraleja de Enmedio,  Madrid Capital, El Escorial, Majadahonda, Valdemoro,  Madrid Capital, Fuenlabrada, Corpa, Alcorcón, Alcorcón, Majadahonda, Collado Villalba,  Madrid Capital,  Madrid Capital,  Madrid Capital,  Madrid Capital,  Madrid Capital,  Madrid Capital,  Madrid Capital, Alcalá de Henares,  Madrid Capital, Campo Real,  Madrid Capital,  Madrid Capital, Getafe, Alcorcón,  Madrid Capital, Arroyomolinos (Madrid), Griñón, Alcorcón, Móstoles, El Boalo - Cerceda – Mataelpino, San Agustín del Guadalix,  Madrid Capital, Alcobendas, Coslada,  Madrid Capital,  Madrid Capital, Meco, Ribatejada, Torrejón de Ardoz,  Madrid Capital, Alcalá de Henares,  Madrid Capital, Alcobendas,  Madrid Capital,  Madrid Capital,  Madrid Capital, Majadahonda, Fuenlabrada,  Madrid Capital, Las Rozas de Madrid, Rivas-vaciamadrid,  Madrid Capital, Valdemoro,  Madrid Capital, Boadilla del Monte,  Madrid Capital, Titulcia,  Madrid Capital,  Madrid Capital,  Madrid Capital,  Madrid Capital,  Madrid Capital,  Madrid Capital,  Madrid Capital,  Madrid Capital,  Madrid Capital,  Madrid Capital,  Madrid Capital,  Madrid Capital,  Madrid Capital,  Madrid Capital,  Madrid Capital,  Madrid Capital,  Madrid Capital,  Madrid Capital,  Madrid Capital,  Madrid Capital,  Madrid Capital,  Madrid Capital,  Madrid Capital,  Madrid Capital,  Madrid Capital,  Madrid Capital,  Madrid Capital,  Madrid Capital,  Madrid Capital,  Madrid Capital,  Madrid Capital,  Madrid Capital,  Madrid Capital,  Madrid Capital,  Madrid Capital,  Madrid Capital,  Madrid Capital,  Madrid Capital,  Madrid Capital,  Madrid Capital,  Madrid Capital,  Madrid Capital,  Madrid Capital,  Madrid Capital,  Madrid Capital,  Madrid Capital,  Madrid Capital,  Madrid Capital,  Madrid Capital,  Madrid Capital,  Madrid Capital,  Madrid Capital,  Madrid Capital,  Madrid Capital,  Madrid Capital,  Madrid Capital,  Madrid Capital,  Madrid Capital,  Madrid Capital,  Madrid Capital,  Madrid Capital,  Madrid Capital,  Madrid Capital,  Madrid Capital,  Madrid Capital,  Madrid Capital,  Madrid Capital,  Madrid Capital,  Madrid Capital,  Madrid Capital,  Madrid Capital,  Madrid Capital,  Madrid Capital,  Madrid Capital,  Madrid Capital,  Madrid Capital,  Madrid Capital, Alcalá de Henares,  Madrid Capital, Alcalá de Henares,  Madrid Capital, Alpedrete, Collado Villalba, Ciempozuelos, Collado Villalba,  Madrid Capital,  Madrid Capital, Torrejón de Ardoz, Leganés, Manzanares El Real, Pinto, El Boalo - Cerceda – Mataelpino,  Madrid Capital,  Madrid Capital,  Madrid Capital,  Madrid Capital,  Madrid Capital,  Madrid Capital,  Madrid Capital,  Madrid Capital,  Madrid Capital,  Madrid Capital,  Madrid Capital,  Madrid Capital,  Madrid Capital,  Madrid Capital,  Madrid Capital,  Madrid Capital,  Madrid Capital,  Madrid Capital,  Madrid Capital,  Madrid Capital,  Madrid Capital,  Madrid Capital,  Madrid Capital,  Madrid Capital,  Madrid Capital,  Madrid Capital,  Madrid Capital,  Madrid Capital,  Madrid Capital,  Madrid Capital,  Madrid Capital,  Madrid Capital,  Madrid Capital,  Madrid Capital,  Madrid Capital, Alcalá de Henares,  Madrid Capital, Alcalá de Henares,  Madrid Capital, Alpedrete, Collado Villalba, Ciempozuelos, Collado Villalba,  Madrid Capital,  Madrid Capital, Torrejón de Ardoz, Leganés, Manzanares El Real, Pinto, El Boalo - Cerceda – Mataelpino,  Madrid Capital,  Madrid Capital, Patones, Alcobendas, Móstoles, Alcalá de Henares, Ribatejada,  Madrid Capital,  Madrid Capital, Pozuelo de Alarcón, Las Rozas de Madrid, Manzanares El Real, Pinto, El Boalo - Cerceda – Mataelpino,  Madrid Capital,  Madrid Capital, Patones, Alcobendas, Móstoles, Alcalá de Henares, Ribatejada,  Madrid Capital,  Madrid Capital, Pozuelo de Alarcón, Las Rozas de Madrid,  Madrid Capital, Móstoles, Móstoles,  Madrid Capital, Parla, Colmenar Viejo, Collado Villalba, Manzanares El Real, Getafe, Aranjuez,  Madrid Capital, Loeches, Las Rozas de Madrid,  Madrid Capital, Móstoles,  Madrid Capital, El Escorial, Arganda del Rey, Villamantilla, Móstoles,  Madrid Capital,  Madrid Capital,  Madrid Capital,  Madrid Capital, Arganda del Rey, Getafe, Rivas-vaciamadrid, San Martín de la Vega, Pinto, Alcalá de Henares, Velilla de San Antonio,  Madrid Capital, Coslada, Camarma de Esteruelas,  Madrid Capital,  Madrid Capital, Alcalá de Henares,  Madrid Capital, San Martín de Valdeiglesias,  Madrid Capital, Móstoles, Navalcarnero, Alcorcón,  Madrid Capital, Móstoles, Moraleja de Enmedio, Alcorcón,  Madrid Capital, Móstoles, Moraleja de Enmedio, Mejorada del Campo, Robledo de Chavela,  Madrid Capital, Alcalá de Henares,  Madrid Capital, Torrejón de Ardoz,  Madrid Capital,  Madrid Capital, Alcorcón, Alcalá de Henares, Camarma de Esteruelas, Cadalso de los Vidrios, Arganda del Rey,  Madrid Capital, Robledo de Chavela,  Madrid Capital, Corpa, Getafe, Boadilla del Monte,  Madrid Capital,  Madrid Capital, San Martín de la Vega, Getafe, San Sebastián de los Reyes,  Madrid Capital, Coslada,  Madrid Capital, Getafe, Moralzarzal, Manzanares El Real, Alcalá de Henares, Las Rozas de Madrid,  Madrid Capital, Chapinería, Colmenar Viejo, Pedrezuela,  Madrid Capital, Alcobendas,  Madrid Capital, Villaviciosa de Odón, Colmenarejo,  Madrid Capital, Alcobendas,  Madrid Capital, Rivas-vaciamadrid,  Madrid Capital,  Madrid Capital,  Madrid Capital,  Madrid Capital,  Madrid Capital, Pinto,  Madrid Capital,  Madrid Capital, Leganés,  Madrid Capital,  Madrid Capital,  Madrid Capital,  Madrid Capital,  Madrid Capital, Villalbilla, Boadilla del Monte, Valdemaqueda,  Madrid Capital, Velilla de San Antonio, Valdemoro, Arganda del Rey,  Madrid Capital, Las Rozas de Madrid, Collado Villalba,  Madrid Capital, San Sebastián de los Reyes,  Madrid Capital, Alcalá de Henares, Alcorcón, Valdemoro, Valdemoro,  Madrid Capital,  Madrid Capital, Alcorcón,  Madrid Capital,  Madrid Capital, El Molar (Madrid), Miraflores de la Sierra,  Madrid Capital, Guadarrama,  Madrid Capital, Valdilecha, Torrejón de Ardoz, Getafe, Colmenar Viejo, Pinto, Alcobendas, Alcobendas, Collado Villalba, Alcalá de Henares, San Martín de la Vega, Alcalá de Henares, Navalcarnero,  Madrid Capital, Parla,  Madrid Capital,  Madrid Capital,  Madrid Capital, Parla, Parla,  Madrid Capital, Getafe, Valdemoro, El Molar (Madrid), Parla,  Madrid Capital,  Madrid Capital, Getafe,  Madrid Capital, Tielmes,  Madrid Capital,  Madrid Capital,  Madrid Capital,  Madrid Capital, Boadilla del Monte, Parla, Parla, El Molar (Madrid),  Madrid Capital,  Madrid Capital, Getafe,  Madrid Capital,  Madrid Capital, Villanueva de la Cañada, Alcalá de Henares, Arganda del Rey, Torrejón de Ardoz,  Madrid Capital,  Madrid Capital, Pozuelo de Alarcón,  Madrid Capital,  Madrid Capital,  Madrid Capital,  Madrid Capital,  Madrid Capital, Alcalá de Henares, San Martín de Valdeiglesias,  Madrid Capital, Torrejón de la Calzada, Moralzarzal, Valdetorres de Jarama,  Madrid Capital, Rivas-vaciamadrid, San Martín de la Vega, Navalcarnero,  Madrid Capital, Brunete, Fuentidueña de Tajo,  Madrid Capital, San Sebastián de los Reyes, Getafe, Alcalá de Henares, El Álamo,  Madrid Capital, Algete, Alcalá de Henares,  Madrid Capital,  Madrid Capital,  Madrid Capital,  Madrid Capital, Móstoles,  Madrid Capital, Mejorada del Campo,  Madrid Capital,  Madrid Capital,  Madrid Capital,  Madrid Capital,  Madrid Capital, Mejorada del Campo,  Madrid Capital,  Madrid Capital,  Madrid Capital, Chinchón,  Madrid Capital, Campo Real, Velilla de San Antonio,  Madrid Capital, Morata de Tajuña, Campo Real, Campo Real,  Madrid Capital, El Álamo,  Madrid Capital,  Madrid Capital,  Madrid Capital, Robledo de Chavela,  Madrid Capital, Fuenlabrada, Alcalá de Henares, Fuenlabrada, San Sebastián de los Reyes, Fresno de Torote - Serracines,  Madrid Capital, Hoyo de Manzanares,  Madrid Capital,  Madrid Capital,  Madrid Capital, Alcalá de Henares, Colmenar Viejo,  Madrid Capital, Collado Villalba, Pinto,  Madrid Capital,  Madrid Capital, Galapagar, Alcalá de Henares, Navalcarnero,  Madrid Capital,  Madrid Capital,  Madrid Capital, Valdemoro,  Madrid Capital, Navalcarnero, Villa del Prado, El Escorial, Leganés,  Madrid Capital,  Madrid Capital, Collado Villalba, Navalcarnero,  Madrid Capital,  Madrid Capital,  Madrid Capital, Majadahonda, Valdemoro,  Madrid Capital,  Madrid Capital, Majadahonda, Rivas-vaciamadrid, Navalcarnero, Torrelaguna,  Madrid Capital,  Madrid Capital, Tres Cantos, Camarma de Esteruelas,  Madrid Capital,  Madrid Capital,  Madrid Capital, Valdemoro,  Madrid Capital,  Madrid Capital,  Madrid Capital, El Escorial, Villamantilla,  Madrid Capital, Moralzarzal, El Escorial, Becerril de la Sierra, San Lorenzo de El Escorial, Alcalá de Henares, Alcalá de Henares,  Madrid Capital,  Madrid Capital, El Escorial,  Madrid Capital, Daganzo de Arriba, San Lorenzo de El Escorial, Robledo de Chavela,  Madrid Capital, Majadahonda,  Madrid Capital,  Madrid Capital,  Madrid Capital, Arganda del Rey,  Madrid Capital, Ajalvir, Colmenar de Oreja,  Madrid Capital,  Madrid Capital, Moralzarzal, Alcalá de Henares, San Martín de la Vega, Torrejón de Ardoz, Collado Villalba,  Madrid Capital,  Madrid Capital, San Lorenzo de El Escorial,  Madrid Capital,  Madrid Capital, Algete, Alcobendas,  Madrid Capital,  Madrid Capital, Alcalá de Henares, Boadilla del Monte, Villanueva de la Cañada,  Madrid Capital, Alcobendas, Boadilla del Monte, Alcobendas, Las Rozas de Madrid,  Madrid Capital,  Madrid Capital, Boadilla del Monte, Boadilla del Monte, Collado Villalba, Boadilla del Monte,  Madrid Capital, Alcobendas,  Madrid Capital, Aranjuez, Tres Cantos,  Madrid Capital, San Sebastián de los Reyes, Las Rozas de Madrid,  Madrid Capital,  Madrid Capital, Alcobendas, Villaviciosa de Odón, Griñón,  Madrid Capital, Boadilla del Monte, Colmenar de Oreja, Alcorcón,  Madrid Capital, Alcalá de Henares,  Madrid Capital,  Madrid Capital, Las Rozas de Madrid, Torrelodones, Leganés,  Madrid Capital, Meco, Collado Villalba, Boadilla del Monte, Pelayos de la Presa, Alcalá de Henares, Villaviciosa de Odón,  Madrid Capital,  Madrid Capital, Griñón, Alcalá de Henares,  Madrid Capital, Las Rozas de Madrid,  Madrid Capital, Chinchón, Alcalá de Henares, Guadalix de la Sierra, Daganzo de Arriba, Villalbilla, Cubas de la Sagra, Alpedrete,  Madrid Capital,  Madrid Capital, Alcalá de Henares,  Madrid Capital,  Madrid Capital,  Madrid Capital, Collado Villalba,  Madrid Capital, Alcalá de Henares,  Madrid Capital,  Madrid Capital,  Madrid Capital, Collado Villalba,  Madrid Capital, Alcalá de Henares,  Madrid Capital,  Madrid Capital, San Sebastián de los Reyes, Torrejón de la Calzada, El Boalo - Cerceda – Mataelpino, Alpedrete, Las Rozas de Madrid, Las Rozas de Madrid, Alcalá de Henares, Boadilla del Monte, San Sebastián de los Reyes,  Madrid Capital,  Madrid Capital,  Madrid Capital,  Madrid Capital,  Madrid Capital,  Madrid Capital,  Madrid Capital,  Madrid Capital,  Madrid Capital,  Madrid Capital,  Madrid Capital,  Madrid Capital,  Madrid Capital,  Madrid Capital,  Madrid Capital,  Madrid Capital,  Madrid Capital,  Madrid Capital,  Madrid Capital, Alcalá de Henares,  Madrid Capital,  Madrid Capital,  Madrid Capital,  Madrid Capital, Pedrezuela, Alcorcón,  Madrid Capital, Torrelodones, Galapagar,  Madrid Capital,  Madrid Capital, Arganda del Rey, Las Rozas de Madrid,  Madrid Capital, Torrelodones, Alcalá de Henares,  Madrid Capital, Parla,  Madrid Capital, Parla,  Madrid Capital, San Fernando de Henares,  Madrid Capital,  Madrid Capital, Fuenlabrada,  Madrid Capital,  Madrid Capital, Majadahonda, Alcalá de Henares, Torrelodones, Guadarrama, Parla,  Madrid Capital, Los Santos de la Humosa, San Lorenzo de El Escorial, Robledo de Chavela, San Martín de Valdeiglesias, Collado Mediano,  Madrid Capital,  Madrid Capital,  Madrid Capital,  Madrid Capital,  Madrid Capital,  Madrid Capital, Getafe, Alcalá de Henares, Galapagar,  Madrid Capital,  Madrid Capital,  Madrid Capital,  Madrid Capital, Chinchón,  Madrid Capital,  Madrid Capital, Fuenlabrada,  Madrid Capital,  Madrid Capital, Majadahonda, Alcalá de Henares, Torrelodones, Guadarrama, Parla,  Madrid Capital, Los Santos de la Humosa, San Lorenzo de El Escorial, Robledo de Chavela, San Martín de Valdeiglesias, Collado Mediano,  Madrid Capital,  Madrid Capital,  Madrid Capital,  Madrid Capital,  Madrid Capital,  Madrid Capital, Getafe, Alcalá de Henares, Galapagar,  Madrid Capital,  Madrid Capital,  Madrid Capital,  Madrid Capital, Chinchón,  Madrid Capital, Boadilla del Monte, Majadahonda, Arganda del Rey, Alcalá de Henares, Las Rozas de Madrid, San Lorenzo de El Escorial, Campo Real, Villanueva del Pardillo, Villanueva del Pardillo,  Madrid Capital, Las Rozas de Madrid, Santorcaz, Galapagar, Las Rozas de Madrid,  Madrid Capital,  Madrid Capital,  Madrid Capital,  Madrid Capital,  Madrid Capital,  Madrid Capital,  Madrid Capital,  Madrid Capital,  Madrid Capital,  Madrid Capital,  Madrid Capital,  Madrid Capital, Pinto, Pinto, Alcalá de Henares,  Madrid Capital,  Madrid Capital, Galapagar,  Madrid Capital,  Madrid Capital, Valdemorillo,  Madrid Capital,  Madrid Capital,  Madrid Capital,  Madrid Capital, Villanueva de la Cañada,  Madrid Capital, Villaviciosa de Odón,  Madrid Capital,  Madrid Capital, Villaviciosa de Odón, San Sebastián de los Reyes,  Madrid Capital, Pozuelo de Alarcón, Villaviciosa de Odón,  Madrid Capital, San Sebastián de los Reyes,  Madrid Capital, Fuenlabrada, Alcalá de Henares, San Sebastián de los Reyes,  Madrid Capital, Ambite, Alcalá de Henares, Rivas-vaciamadrid, Navalcarnero,  Madrid Capital, San Martín de la Vega, Alcalá de Henares, Velilla de San Antonio, Torrejón de la Calzada, Moralzarzal, Pinto, Alcobendas, San Sebastián de los Reyes, Velilla de San Antonio,  Madrid Capital, Alcalá de Henares, Leganés,  Madrid Capital, Getafe, Cobeña,  Madrid Capital, Collado Villalba, Getafe, Parla, Getafe, Brunete, San Sebastián de los Reyes, Rivas-vaciamadrid, El Molar (Madrid), Los Santos de la Humosa, Boadilla del Monte, Arganda del Rey, Alcalá de Henares,  Madrid Capital, Coslada,  Madrid Capital, Robledo de Chavela, Arganda del Rey, Alcorcón, Colmenar Viejo,  Madrid Capital, Torrejón de Ardoz,  Madrid Capital, Navalcarnero, Arganda del Rey, Fuenlabrada, Velilla de San Antonio, Parla, Villanueva de la Cañada, Parla, San Martín de la Vega, Los Santos de la Humosa, Alcalá de Henares,  Madrid Capital, Torres de la Alameda, Villarejo de Salvanés, Pinto, Alcalá de Henares, Las Rozas de Madrid, El Molar (Madrid), Getafe, Collado Mediano, Arganda del Rey, El Molar (Madrid),  Madrid Capital,  Madrid Capital, Moralzarzal,  Madrid Capital,  Madrid Capital, Getafe,  Madrid Capital,  Madrid Capital, Las Rozas de Madrid, Alcalá de Henares, Pinto, Alcobendas,  Madrid Capital,  Madrid Capital,  Madrid Capital,  Madrid Capital,  Madrid Capital,  Madrid Capital,  Madrid Capital,  Madrid Capital,  Madrid Capital, Getafe,  Madrid Capital,  Madrid Capital,  Madrid Capital,  Madrid Capital, Majadahonda, Coslada, Guadalix de la Sierra, Torrejón de Velasco, Navalcarnero,  Madrid Capital,  Madrid Capital,  Madrid Capital, Torrejón de la Calzada, Loeches, Aranjuez, Meco,  Madrid Capital,  Madrid Capital, Torrejón de Ardoz,  Madrid Capital, Valdemoro, Getafe,  Madrid Capital,  Madrid Capital, Cadalso de los Vidrios, Alcalá de Henares, Boadilla del Monte, Orusco de Tajuña, Getafe, Alcalá de Henares, Alcalá de Henares, Valdeolmos-Alalpardo, Alcobendas, Valdeolmos-Alalpardo, Valdeolmos-Alalpardo, Alcalá de Henares,  Madrid Capital, Fuenlabrada,  Madrid Capital,  Madrid Capital,  Madrid Capital,  Madrid Capital, Navalagamella,  Madrid Capital,  Madrid Capital,  Madrid Capital,  Madrid Capital,  Madrid Capital,  Madrid Capital, Pozuelo de Alarcón,  Madrid Capital,  Madrid Capital,  Madrid Capital,  Madrid Capital,  Madrid Capital,  Madrid Capital, Alcalá de Henares,  Madrid Capital, Arganda del Rey, Pozuelo de Alarcón, Alcalá de Henares, Griñón,  Madrid Capital, Pozuelo de Alarcón, Moralzarzal,  Madrid Capital, Torrelodones, Hoyo de Manzanares, Pozuelo de Alarcón,  Madrid Capital,  Madrid Capital,  Madrid Capital, Brunete, Villalbilla, Alcalá de Henares, Parla,  Madrid Capital, Las Rozas de Madrid,  Madrid Capital, Miraflores de la Sierra, Alcalá de Henares, Alcobendas,  Madrid Capital,  Madrid Capital, Fuenlabrada,  Madrid Capital, San Sebastián de los Reyes,  Madrid Capital,  Madrid Capital, Alcobendas, Parla, Tres Cantos, Colmenar de Oreja, Robledo de Chavela, Alcalá de Henares, Algete,  Madrid Capital, Galapagar, Boadilla del Monte,  Madrid Capital,  Madrid Capital, Griñón,  Madrid Capital, Navalcarnero, Móstoles, Móstoles, Móstoles, Móstoles, Móstoles, Navalcarnero, Navalcarnero, Villamantilla, Valdemorillo,  Madrid Capital, Alcobendas, Alcalá de Henares, Campo Real,  Madrid Capital,  Madrid Capital, San Martín de Valdeiglesias, Alcalá de Henares,  Madrid Capital, Fuentidueña de Tajo,  Madrid Capital,  Madrid Capital, Leganés, Valdemoro, Collado Villalba,  Madrid Capital, Pozuelo de Alarcón,  Madrid Capital, Guadarrama, Villarejo de Salvanés, Aranjuez, Brunete, San Lorenzo de El Escorial, Valdilecha, Valdemorillo, Coslada, San Sebastián de los Reyes,  Madrid Capital, Alcalá de Henares,  Madrid Capital, Galapagar, Boadilla del Monte, Torrelodones, Parla,  Madrid Capital, Boadilla del Monte, Getafe,  Madrid Capital, Alcalá de Henares,  Madrid Capital, Torrelodones,  Madrid Capital,  Madrid Capital, Alcorcón, Valdetorres de Jarama, El Molar (Madrid),  Madrid Capital, Alcalá de Henares,  Madrid Capital,  Madrid Capital, San Martín de la Vega,  Madrid Capital, Villanueva de la Cañada, San Sebastián de los Reyes,  Madrid Capital, Getafe, Fresno de Torote - Serracines, Cobeña, Fresno de Torote - Serracines,  Madrid Capital, Daganzo de Arriba, Algete, Cobeña, Valdetorres de Jarama, Fresno de Torote - Serracines, Cobeña, Fresno de Torote - Serracines, Algete, Valdetorres de Jarama, Villalbilla, Fresno de Torote - Serracines, Fresno de Torote - Serracines,  Madrid Capital, Torrejón de Ardoz,  Madrid Capital,  Madrid Capital,  Madrid Capital,  Madrid Capital,  Madrid Capital,  Madrid Capital, Móstoles, Fuenlabrada, Móstoles, Móstoles, Fuenlabrada, Móstoles, Móstoles, El Boalo - Cerceda – Mataelpino, Móstoles, El Boalo - Cerceda – Mataelpino, El Boalo - Cerceda – Mataelpino, El Boalo - Cerceda – Mataelpino,  Madrid Capital,  Madrid Capital, Alcalá de Henares, Los Molinos, Alpedrete,  Madrid Capital,  Madrid Capital, Collado Villalba, Collado Villalba,  Madrid Capital, San Sebastián de los Reyes, Collado Villalba, San Sebastián de los Reyes, Villa del Prado,  Madrid Capital,  Madrid Capital,  Madrid Capital, Soto del Real, Alcalá de Henares,  Madrid Capital,  Madrid Capital,  Madrid Capital,  Madrid Capital,  Madrid Capital,  Madrid Capital,  Madrid Capital, Torrelodones, Boadilla del Monte,  Madrid Capital, Villanueva de la Cañada,  Madrid Capital,  Madrid Capital,  Madrid Capital, Collado Villalba, Pinto, Getafe,  Madrid Capital, Pinto, Pinto, Pinto, Parla, Parla, Parla, Parla,  Madrid Capital,  Madrid Capital, San Lorenzo de El Escorial, El Escorial, Paracuellos de Jarama, Paracuellos de Jarama, Paracuellos de Jarama, Paracuellos de Jarama, Alcalá de Henares, Paracuellos de Jarama, Paracuellos de Jarama, Paracuellos de Jarama, Villanueva de la Cañada, Collado Villalba,  Madrid Capital, Alcalá de Henares, Villanueva de la Cañada, Arroyomolinos (Madrid),  Madrid Capital, Alcalá de Henares, Collado Villalba,  Madrid Capital, Soto del Real, Soto del Real, Soto del Real, Soto del Real, Soto del Real, Soto del Real, Soto del Real, Soto del Real, Soto del Real, Colmenar Viejo, Torrejón de Ardoz, Collado Villalba, Collado Villalba, Villaviciosa de Odón, Arganda del Rey, Arganda del Rey, Arganda del Rey, Manzanares El Real, Arganda del Rey, Arganda del Rey, Villaviciosa de Odón, San Agustín del Guadalix, Alcorcón, Móstoles, Alcorcón, Alcorcón, Alcorcón, San Lorenzo de El Escorial, Camarma de Esteruelas, Fuenlabrada, Alcalá de Henares, Ajalvir, Collado Villalba, Alcalá de Henares, Torrejón de la Calzada,  Madrid Capital, Camarma de Esteruelas, Alcalá de Henares, Móstoles, Móstoles, Móstoles, Alcalá de Henares, Parla, Móstoles, Móstoles, Móstoles, Alcalá de Henares, Alcalá de Henares, Alcalá de Henares,  Madrid Capital, Algete,  Madrid Capital,  Madrid Capital,  Madrid Capital,  Madrid Capital,  Madrid Capital,  Madrid Capital,  Madrid Capital,  Madrid Capital,  Madrid Capital, Torrejón de Velasco, Algete,  Madrid Capital,  Madrid Capital,  Madrid Capital, Griñón,  Madrid Capital,  Madrid Capital,  Madrid Capital, Collado Villalba,  Madrid Capital,  Madrid Capital,  Madrid Capital,  Madrid Capital,  Madrid Capital,  Madrid Capital,  Madrid Capital, Móstoles, Móstoles, Móstoles, Móstoles, Móstoles,  Madrid Capital,  Madrid Capital,  Madrid Capital,  Madrid Capital,  Madrid Capital,  Madrid Capital,  Madrid Capital,  Madrid Capital, Alcalá de Henares, Torrejón de Velasco,  Madrid Capital,  Madrid Capital, El Escorial, Alcalá de Henares,  Madrid Capital,  Madrid Capital,  Madrid Capital,  Madrid Capital,  Madrid Capital,  Madrid Capital,  Madrid Capital,  Madrid Capital, Alcalá de Henares, Torrejón de Velasco,  Madrid Capital,  Madrid Capital, El Escorial, Alcalá de Henares,  Madrid Capital, Alcorcón, Móstoles, Alcalá de Henares, Collado Mediano, Villanueva de la Cañada, Alpedrete, Villanueva del Pardillo, Leganés,  Madrid Capital,  Madrid Capital, Torrejón de Ardoz, Parla,  Madrid Capital, Alcalá de Henares,  Madrid Capital, Las Rozas de Madrid,  Madrid Capital, Aranjuez, Parla, Villanueva de la Cañada, Valdemoro, Parla, Collado Mediano,  Madrid Capital,  Madrid Capital,  Madrid Capital, Pinto,  Madrid Capital, Pinto, Navalafuente, Alcorcón,  Madrid Capital, Alcorcón,  Madrid Capital,  Madrid Capital, Mejorada del Campo,  Madrid Capital,  Madrid Capital,  Madrid Capital,  Madrid Capital,  Madrid Capital,  Madrid Capital,  Madrid Capital,  Madrid Capital, Torrejón de Ardoz,  Madrid Capital,  Madrid Capital,  Madrid Capital,  Madrid Capital, Alcalá de Henares, Getafe,  Madrid Capital,  Madrid Capital, Navalcarnero,  Madrid Capital, Las Rozas de Madrid, Velilla de San Antonio, San Lorenzo de El Escorial,  Madrid Capital,  Madrid Capital,  Madrid Capital,  Madrid Capital,  Madrid Capital,  Madrid Capital,  Madrid Capital, El Molar (Madrid), Móstoles, Velilla de San Antonio, Torrejón de Velasco, Arganda del Rey,  Madrid Capital, Parla, Navalcarnero, El Molar (Madrid), Villanueva de la Cañada,  Madrid Capital, San Sebastián de los Reyes, Moralzarzal, Pinto, Getafe,  Madrid Capital, San Sebastián de los Reyes, Alcorcón, Tielmes,  Madrid Capital, Alcalá de Henares, Valdelaguna,  Madrid Capital,  Madrid Capital, El Molar (Madrid), San Lorenzo de El Escorial, Las Rozas de Madrid, Getafe, Velilla de San Antonio, Rivas-vaciamadrid, Navalcarnero,  Madrid Capital, Coslada, Meco, Villanueva del Pardillo, Torrejón de Ardoz,  Madrid Capital, Velilla de San Antonio, San Martín de Valdeiglesias, Torrejón de la Calzada, Arganda del Rey, San Sebastián de los Reyes, Moralzarzal, Pinto, Getafe,  Madrid Capital, San Sebastián de los Reyes, Alcorcón, Tielmes,  Madrid Capital, Alcalá de Henares, Valdelaguna,  Madrid Capital,  Madrid Capital, El Molar (Madrid), San Lorenzo de El Escorial, Las Rozas de Madrid, Getafe, Velilla de San Antonio, Rivas-vaciamadrid, Navalcarnero,  Madrid Capital, Coslada, Meco, Villanueva del Pardillo, Torrejón de Ardoz,  Madrid Capital, Velilla de San Antonio, San Martín de Valdeiglesias, Torrejón de la Calzada, Arganda del Rey, San Sebastián de los Reyes, Moralzarzal, Pinto, Getafe,  Madrid Capital, San Sebastián de los Reyes, Alcorcón, Tielmes,  Madrid Capital, Alcalá de Henares, Valdelaguna,  Madrid Capital,  Madrid Capital, El Molar (Madrid), San Lorenzo de El Escorial, Las Rozas de Madrid, Getafe, Velilla de San Antonio, Rivas-vaciamadrid, Navalcarnero,  Madrid Capital, Coslada, Meco, Villanueva del Pardillo, Torrejón de Ardoz,  Madrid Capital, Velilla de San Antonio, San Martín de Valdeiglesias, Torrejón de la Calzada, Arganda del Rey, Chinchón, San Sebastián de los Reyes, Parla,  Madrid Capital, Alcalá de Henares, Las Rozas de Madrid,  Madrid Capital, Torrejón de la Calzada, Las Rozas de Madrid, San Martín de Valdeiglesias, Alcalá de Henares,  Madrid Capital, Alpedrete, Gargantilla del Lozoya,  Madrid Capital,  Madrid Capital, Gargantilla del Lozoya, Alcalá de Henares, Parla, Moralzarzal,  Madrid Capital, Rivas-vaciamadrid, Getafe,  Madrid Capital,  Madrid Capital,  Madrid Capital,  Madrid Capital, Alcalá de Henares,  Madrid Capital,  Madrid Capital, Alcorcón, Collado Villalba, Alcalá de Henares, Arganda del Rey,  Madrid Capital, Las Rozas de Madrid,  Madrid Capital,  Madrid Capital,  Madrid Capital,  Madrid Capital, Pozuelo de Alarcón, Boadilla del Monte,  Madrid Capital,  Madrid Capital,  Madrid Capital, Ciempozuelos, Rivas-vaciamadrid, Alcobendas,  Madrid Capital, Humanes de Madrid, Fuenlabrada, Fuenlabrada, Fuenlabrada, Fuenlabrada, Chinchón, Fuenlabrada, Fuenlabrada, Fuenlabrada, Ciempozuelos, Fuenlabrada, Alcalá de Henares, Torrejón de Ardoz,  Madrid Capital,  Madrid Capital, Alpedrete,  Madrid Capital,  Madrid Capital, Galapagar,  Madrid Capital, Collado Villalba, Campo Real,  Madrid Capital, Collado Villalba, Getafe, Guadalix de la Sierra, Cubas de la Sagra, Talamanca de Jarama, Valdemoro, Getafe, Alcalá de Henares,  Madrid Capital,  Madrid Capital, Alcalá de Henares, Lozoya, Venturada, Alcalá de Henares,  Madrid Capital, Parla, Las Rozas de Madrid, Majadahonda, Majadahonda, Hoyo de Manzanares,  Madrid Capital, Valdemorillo, El Escorial, Las Rozas de Madrid,  Madrid Capital, Collado Villalba,  Madrid Capital,  Madrid Capital,  Madrid Capital, Collado Villalba, Collado Villalba, Boadilla del Monte, Collado Villalba,  Madrid Capital,  Madrid Capital, Collado Villalba,  Madrid Capital, Collado Villalba,  Madrid Capital, Ciempozuelos, Alcalá de Henares,  Madrid Capital,  Madrid Capital, Parla, Ciempozuelos,  Madrid Capital,  Madrid Capital,  Madrid Capital, Parla,  Madrid Capital, Arroyomolinos (Madrid),  Madrid Capital, Collado Villalba, Getafe,  Madrid Capital,  Madrid Capital, Getafe, Getafe, Parla,  Madrid Capital, Collado Villalba, Morata de Tajuña, Valdemoro, Morata de Tajuña, Leganés,  Madrid Capital,  Madrid Capital, Arroyomolinos (Madrid), Valdemoro,  Madrid Capital,  Madrid Capital,  Madrid Capital,  Madrid Capital,  Madrid Capital,  Madrid Capital,  Madrid Capital,  Madrid Capital,  Madrid Capital,  Madrid Capital,  Madrid Capital,  Madrid Capital, Alcorcón,  Madrid Capital, Leganés, San Martín de Valdeiglesias,  Madrid Capital, Las Rozas de Madrid, Villanueva del Pardillo, Villanueva del Pardillo, Villanueva del Pardillo, Villanueva del Pardillo,  Madrid Capital, Villanueva del Pardillo, Villanueva del Pardillo,  Madrid Capital, Collado Villalba,  Madrid Capital, Arganda del Rey, Leganés, Robledo de Chavela, El Escorial, El Escorial, Robledo de Chavela, Alcalá de Henares, Cubas de la Sagra, Majadahonda,  Madrid Capital,  Madrid Capital, Alcalá de Henares, Torrejón de la Calzada,  Madrid Capital,  Madrid Capital,  Madrid Capital, Arroyomolinos (Madrid), Arroyomolinos (Madrid), Arroyomolinos (Madrid), Arroyomolinos (Madrid), Arroyomolinos (Madrid), Arroyomolinos (Madrid), Arroyomolinos (Madrid), Arroyomolinos (Madrid), Arroyomolinos (Madrid), Arroyomolinos (Madrid), Arroyomolinos (Madrid), Arroyomolinos (Madrid), Arroyomolinos (Madrid), Boadilla del Monte, Villanueva de la Cañada, Boadilla del Monte, Boadilla del Monte, Boadilla del Monte, Boadilla del Monte, Boadilla del Monte, Villanueva de la Cañada, Boadilla del Monte, Boadilla del Monte, Villaviciosa de Odón, Boadilla del Monte, Boadilla del Monte, Villanueva de la Cañada,  Madrid Capital,  Madrid Capital, Las Rozas de Madrid, Torrejón de Ardoz, Campo Real,  Madrid Capital, Rivas-vaciamadrid,  Madrid Capital,  Madrid Capital,  Madrid Capital,  Madrid Capital, Moralzarzal, San Sebastián de los Reyes, El Escorial,  Madrid Capital, Moralzarzal, Collado Villalba, Moralzarzal, Collado Villalba,  Madrid Capital, Collado Villalba, Collado Villalba, Hoyo de Manzanares, Collado Villalba, Collado Villalba, Moralzarzal, Collado Villalba, San Lorenzo de El Escorial,  Madrid Capital, Alpedrete, Becerril de la Sierra,  Madrid Capital, Galapagar, Collado Villalba, Torrelodones, Fuenlabrada,  Madrid Capital, Móstoles, Valdaracete, Móstoles, Móstoles, Paracuellos de Jarama,  Madrid Capital,  Madrid Capital,  Madrid Capital, Torres de la Alameda, Coslada,  Madrid Capital, Arganda del Rey, Fuenlabrada, Fuenlabrada, Fuenlabrada,  Madrid Capital, Arroyomolinos (Madrid),  Madrid Capital,  Madrid Capital, Fuenlabrada, Fuenlabrada,  Madrid Capital,  Madrid Capital, Pozuelo de Alarcón,  Madrid Capital, Pozuelo de Alarcón,  Madrid Capital,  Madrid Capital,  Madrid Capital,  Madrid Capital,  Madrid Capital,  Madrid Capital,  Madrid Capital,  Madrid Capital,  Madrid Capital, Humanes de Madrid,  Madrid Capital,  Madrid Capital, Humanes de Madrid, Humanes de Madrid, Humanes de Madrid,  Madrid Capital,  Madrid Capital,  Madrid Capital,  Madrid Capital, Rivas-vaciamadrid, Alcobendas, Fuenlabrada,  Madrid Capital,  Madrid Capital, Alcalá de Henares,  Madrid Capital, Majadahonda, Leganés,  Madrid Capital, Torrelodones,  Madrid Capital, Cubas de la Sagra, Leganés, Alpedrete, Leganés, Aranjuez, Leganés,  Madrid Capital,  Madrid Capital, Colmenarejo, Galapagar, Carabaña, El Escorial, Parla, Parla, Cercedilla,  Madrid Capital,  Madrid Capital, Arganda del Rey, Leganés,  Madrid Capital, Torrejón de Ardoz, Alcalá de Henares, Torrejón de Ardoz, Torrejón de Ardoz, San Sebastián de los Reyes, Alpedrete, Alpedrete, El Escorial, Alpedrete, Rivas-vaciamadrid, Las Rozas de Madrid,  Madrid Capital,  Madrid Capital,  Madrid Capital, Alcobendas, San Sebastián de los Reyes, Alcobendas, San Sebastián de los Reyes, Alcobendas, Arroyomolinos (Madrid), Arroyomolinos (Madrid), Arroyomolinos (Madrid), Arroyomolinos (Madrid),  Madrid Capital, Torrejón de Ardoz, Alcalá de Henares,  Madrid Capital,  Madrid Capital, San Martín de la Vega, Torrelodones, Majadahonda,  Madrid Capital,  Madrid Capital,  Madrid Capital,  Madrid Capital,  Madrid Capital,  Madrid Capital, Aranjuez,  Madrid Capital, Rivas-vaciamadrid, Rivas-vaciamadrid, Rivas-vaciamadrid, Rivas-vaciamadrid,  Madrid Capital,  Madrid Capital,  Madrid Capital,  Madrid Capital,  Madrid Capital, Manzanares El Real,  Madrid Capital, Leganés, Móstoles,  Madrid Capital,  Madrid Capital, Paracuellos de Jarama, Arroyomolinos (Madrid), Valdemanco,  Madrid Capital,  Madrid Capital,  Madrid Capital,  Madrid Capital,  Madrid Capital,  Madrid Capital, Alcalá de Henares,  Madrid Capital,  Madrid Capital,  Madrid Capital,  Madrid Capital,  Madrid Capital,  Madrid Capital, Alcalá de Henares,  Madrid Capital, Aranjuez, Navalcarnero,  Madrid Capital,  Madrid Capital, Boadilla del Monte, Alcalá de Henares,  Madrid Capital,  Madrid Capital,  Madrid Capital,  Madrid Capital, Alcalá de Henares,  Madrid Capital,  Madrid Capital,  Madrid Capital, El Escorial,  Madrid Capital,  Madrid Capital,  Madrid Capital,  Madrid Capital,  Madrid Capital, Boadilla del Monte,  Madrid Capital,  Madrid Capital,  Madrid Capital, Arganda del Rey, Arganda del Rey, Arganda del Rey, Arganda del Rey,  Madrid Capital,  Madrid Capital,  Madrid Capital, San Lorenzo de El Escorial, Pozuelo de Alarcón, Getafe,  Madrid Capital,  Madrid Capital,  Madrid Capital, Horcajo de la Sierra, Valdemoro,  Madrid Capital,  Madrid Capital,  Madrid Capital, Alcalá de Henares,  Madrid Capital, Alpedrete, Alpedrete, Torrelodones, Torrejón de Ardoz,  Madrid Capital, Parla, Gargantilla del Lozoya, Manzanares El Real, Boadilla del Monte, Boadilla del Monte, Rivas-vaciamadrid, Villalbilla,  Madrid Capital, San Martín de Valdeiglesias, Camarma de Esteruelas, Camarma de Esteruelas,  Madrid Capital,  Madrid Capital,  Madrid Capital, Paracuellos de Jarama, Villaviciosa de Odón,  Madrid Capital, Guadarrama,  Madrid Capital, Collado Villalba, Torrejón de la Calzada, El Boalo - Cerceda – Mataelpino, Las Rozas de Madrid, Casarrubuelos, Boadilla del Monte, Alcorcón,  Madrid Capital, Alcalá de Henares, Serranillos del Valle,  Madrid Capital, Manzanares El Real, Manzanares El Real, Manzanares El Real, Boadilla del Monte, Alcorcón,  Madrid Capital, Alcalá de Henares, Serranillos del Valle,  Madrid Capital, Manzanares El Real, Manzanares El Real, Manzanares El Real, Manzanares El Real, Manzanares El Real,  Madrid Capital, Valdemoro, Ajalvir, Mejorada del Campo, Colmenar Viejo, Coslada,  Madrid Capital,  Madrid Capital,  Madrid Capital,  Madrid Capital,  Madrid Capital,  Madrid Capital,  Madrid Capital,  Madrid Capital,  Madrid Capital,  Madrid Capital,  Madrid Capital,  Madrid Capital,  Madrid Capital,  Madrid Capital,  Madrid Capital,  Madrid Capital,  Madrid Capital, Las Rozas de Madrid, Las Rozas de Madrid, Las Rozas de Madrid, Las Rozas de Madrid, Las Rozas de Madrid,  Madrid Capital, Ajalvir,  Madrid Capital,  Madrid Capital,  Madrid Capital,  Madrid Capital,  Madrid Capital,  Madrid Capital, Alcalá de Henares,  Madrid Capital, Torres de la Alameda, Alcalá de Henares, Alcalá de Henares,  Madrid Capital, Villaviciosa de Odón, Miraflores de la Sierra, Humanes de Madrid, Torres de la Alameda, Hoyo de Manzanares, Parla, Griñón, Alcalá de Henares, Alcalá de Henares,  Madrid Capital, Villaviciosa de Odón, Miraflores de la Sierra, Humanes de Madrid, Torres de la Alameda, Hoyo de Manzanares, Parla, Griñón,  Madrid Capital,  Madrid Capital,  Madrid Capital,  Madrid Capital, Galapagar, Majadahonda,  Madrid Capital, Majadahonda, Las Rozas de Madrid, Torrelodones,  Madrid Capital,  Madrid Capital, Torrelodones, Hoyo de Manzanares,  Madrid Capital,  Madrid Capital,  Madrid Capital, Móstoles,  Madrid Capital, Alcalá de Henares, Torrejón de Ardoz,  Madrid Capital, Parla, Torrejón de Ardoz,  Madrid Capital,  Madrid Capital,  Madrid Capital,  Madrid Capital,  Madrid Capital,  Madrid Capital,  Madrid Capital, Rivas-vaciamadrid,  Madrid Capital, Morata de Tajuña,  Madrid Capital,  Madrid Capital,  Madrid Capital,  Madrid Capital,  Madrid Capital,  Madrid Capital,  Madrid Capital,  Madrid Capital,  Madrid Capital,  Madrid Capital, Collado Villalba,  Madrid Capital,  Madrid Capital,  Madrid Capital,  Madrid Capital, Móstoles, Leganés,  Madrid Capital,  Madrid Capital,  Madrid Capital,  Madrid Capital,  Madrid Capital,  Madrid Capital,  Madrid Capital,  Madrid Capital,  Madrid Capital, Leganés,  Madrid Capital,  Madrid Capital,  Madrid Capital,  Madrid Capital,  Madrid Capital,  Madrid Capital,  Madrid Capital, Alcobendas, San Sebastián de los Reyes,  Madrid Capital,  Madrid Capital,  Madrid Capital,  Madrid Capital,  Madrid Capital, Alcobendas,  Madrid Capital, Alcobendas,  Madrid Capital,  Madrid Capital, Alcobendas,  Madrid Capital, Móstoles, Alcobendas, Alcobendas, Alcobendas, Alcobendas, San Sebastián de los Reyes, Alcobendas, Getafe, Alcobendas, San Sebastián de los Reyes, Belmonte de Tajo, Aranjuez, Gargantilla del Lozoya,  Madrid Capital,  Madrid Capital,  Madrid Capital,  Madrid Capital,  Madrid Capital, San Sebastián de los Reyes,  Madrid Capital,  Madrid Capital,  Madrid Capital, Guadarrama,  Madrid Capital,  Madrid Capital,  Madrid Capital,  Madrid Capital, Móstoles,  Madrid Capital,  Madrid Capital,  Madrid Capital,  Madrid Capital,  Madrid Capital, Soto del Real, Torres de la Alameda,  Madrid Capital, Villarejo de Salvanés, Navacerrada,  Madrid Capital, Torrejón de Ardoz, Leganés, Valdemoro,  Madrid Capital, Fuenlabrada, Arganda del Rey,  Madrid Capital, San Sebastián de los Reyes,  Madrid Capital, Getafe,  Madrid Capital, Leganés,  Madrid Capital,  Madrid Capital,  Madrid Capital, Fuenlabrada, Alcalá de Henares, Alcalá de Henares, Talamanca de Jarama, Villar del Olmo, Villar del Olmo, Valdeavero,  Madrid Capital,  Madrid Capital,  Madrid Capital, Torres de la Alameda, San Martín de la Vega, Fuente El Saz de Jarama,  Madrid Capital,  Madrid Capital,  Madrid Capital,  Madrid Capital,  Madrid Capital,  Madrid Capital,  Madrid Capital, Valdemorillo,  Madrid Capital,  Madrid Capital,  Madrid Capital,  Madrid Capital,  Madrid Capital,  Madrid Capital, Navalcarnero,  Madrid Capital,  Madrid Capital,  Madrid Capital,  Madrid Capital, Collado Villalba,  Madrid Capital,  Madrid Capital,  Madrid Capital,  Madrid Capital, Coslada,  Madrid Capital,  Madrid Capital, Fuenlabrada,  Madrid Capital,  Madrid Capital,  Madrid Capital, Alcorcón,  Madrid Capital,  Madrid Capital,  Madrid Capital,  Madrid Capital,  Madrid Capital,  Madrid Capital, Móstoles, Coslada,  Madrid Capital,  Madrid Capital, Sevilla la Nueva, Boadilla del Monte, Villavieja del Lozoya,  Madrid Capital,  Madrid Capital,  Madrid Capital,  Madrid Capital,  Madrid Capital, Valdemoro, Aranjuez, Valdemoro, Valdemoro, Parla, Valdemoro, Pozuelo de Alarcón, Pozuelo de Alarcón, Pozuelo de Alarcón, Algete, Pozuelo de Alarcón, Pozuelo de Alarcón, Pozuelo de Alarcón, San Sebastián de los Reyes,  Madrid Capital,  Madrid Capital, Pozuelo de Alarcón, Pozuelo de Alarcón, Pozuelo de Alarcón,  Madrid Capital, Fuenlabrada,  Madrid Capital,  Madrid Capital, Valdemoro,  Madrid Capital,  Madrid Capital, Villarejo de Salvanés, Pelayos de la Presa, El Berrueco,  Madrid Capital,  Madrid Capital,  Madrid Capital,  Madrid Capital,  Madrid Capital,  Madrid Capital,  Madrid Capital, Parla, Ciempozuelos, Leganés,  Madrid Capital,  Madrid Capital, Leganés, Valdemoro, Getafe, Pinto, Leganés, Leganés,  Madrid Capital, Valdemoro, Pinto,  Madrid Capital, Valdemoro, Leganés, Leganés,  Madrid Capital, Fuenlabrada, Alcorcón, Alcobendas, Alcobendas,  Madrid Capital,  Madrid Capital,  Madrid Capital,  Madrid Capital, San Martín de la Vega, Majadahonda,  Madrid Capital,  Madrid Capital,  Madrid Capital,  Madrid Capital, Leganés, Arganda del Rey,  Madrid Capital,  Madrid Capital, Valdemoro, Valdemoro,  Madrid Capital,  Madrid Capital, Valdemoro,  Madrid Capital,  Madrid Capital, Valdemoro,  Madrid Capital,  Madrid Capital, Valdemoro, Valdemoro, Arroyomolinos (Madrid), Valdemoro, Ciempozuelos, Valdemoro,  Madrid Capital, Pozuelo de Alarcón,  Madrid Capital, Leganés, Alcorcón, Griñón, Leganés,  Madrid Capital,  Madrid Capital, Valdemoro, Fuenlabrada, Navalagamella,  Madrid Capital, Tres Cantos,  Madrid Capital, Leganés,  Madrid Capital, Tres Cantos, Tres Cantos, Tres Cantos, Tres Cantos, Villaviciosa de Odón, Tres Cantos,  Madrid Capital, Tres Cantos,  Madrid Capital,  Madrid Capital,  Madrid Capital,  Madrid Capital,  Madrid Capital,  Madrid Capital, Coslada,  Madrid Capital, Coslada,  Madrid Capital,  Madrid Capital,  Madrid Capital, Arroyomolinos (Madrid),  Madrid Capital,  Madrid Capital,  Madrid Capital,  Madrid Capital, Torrejón de Ardoz,  Madrid Capital,  Madrid Capital,  Madrid Capital,  Madrid Capital,  Madrid Capital,  Madrid Capital,  Madrid Capital,  Madrid Capital,  Madrid Capital,  Madrid Capital,  Madrid Capital,  Madrid Capital,  Madrid Capital, Getafe,  Madrid Capital,  Madrid Capital,  Madrid Capital, Villaviciosa de Odón, Torrejón de Ardoz, Torrejón de Ardoz,  Madrid Capital,  Madrid Capital, Mejorada del Campo,  Madrid Capital,  Madrid Capital,  Madrid Capital, Mejorada del Campo,  Madrid Capital,  Madrid Capital,  Madrid Capital, Alcalá de Henares, Quijorna, Torrejón de Ardoz, Alcorcón, Alcorcón, Pedrezuela,  Madrid Capital,  Madrid Capital, Guadarrama,  Madrid Capital, Las Rozas de Madrid, San Sebastián de los Reyes, Coslada, Pozuelo de Alarcón,  Madrid Capital,  Madrid Capital, Pozuelo de Alarcón,  Madrid Capital,  Madrid Capital,  Madrid Capital,  Madrid Capital,  Madrid Capital, Boadilla del Monte, Pozuelo de Alarcón, Las Rozas de Madrid, Boadilla del Monte,  Madrid Capital,  Madrid Capital,  Madrid Capital, Valdemorillo, Pozuelo de Alarcón,  Madrid Capital, Pozuelo de Alarcón,  Madrid Capital,  Madrid Capital, Pozuelo de Alarcón, Boadilla del Monte, Boadilla del Monte,  Madrid Capital,  Madrid Capital, Boadilla del Monte, Pozuelo de Alarcón,  Madrid Capital,  Madrid Capital, Boadilla del Monte,  Madrid Capital, Boadilla del Monte, Boadilla del Monte,  Madrid Capital, Boadilla del Monte,  Madrid Capital,  Madrid Capital,  Madrid Capital,  Madrid Capital,  Madrid Capital,  Madrid Capital, Rivas-vaciamadrid, Boadilla del Monte, Alcorcón, Arganda del Rey, Arganda del Rey, Móstoles, Cubas de la Sagra, San Sebastián de los Reyes,  Madrid Capital,  Madrid Capital, Arganda del Rey, Alcorcón, Arganda del Rey, Boadilla del Monte,  Madrid Capital, San Lorenzo de El Escorial, Campo Real, Las Rozas de Madrid, Villamanta,  Madrid Capital, Las Rozas de Madrid, Navalcarnero, Campo Real, Las Rozas de Madrid, Villamanta,  Madrid Capital, Las Rozas de Madrid, Navalcarnero, Campo Real, Móstoles,  Madrid Capital, Getafe, Colmenar Viejo, Alpedrete, Villamantilla, Torrelaguna, Valverde de Alcalá, Arganda del Rey,  Madrid Capital, Alcalá de Henares, Villamantilla, Alcobendas,  Madrid Capital, Alcalá de Henares, Móstoles,  Madrid Capital, Los Santos de la Humosa,  Madrid Capital,  Madrid Capital, Valdeavero,  Madrid Capital, Collado Villalba, San Martín de la Vega, Alcobendas, Alcobendas, San Martín de la Vega, San Martín de la Vega, Alcobendas, Alcobendas, San Martín de la Vega, Alcobendas, Alcobendas,  Madrid Capital, San Martín de la Vega,  Madrid Capital, Collado Villalba, Alcobendas,  Madrid Capital, Alcobendas, Navalcarnero,  Madrid Capital, Navalcarnero,  Madrid Capital, Móstoles,  Madrid Capital, Fuenlabrada,  Madrid Capital,  Madrid Capital,  Madrid Capital,  Madrid Capital,  Madrid Capital,  Madrid Capital,  Madrid Capital,  Madrid Capital,  Madrid Capital,  Madrid Capital,  Madrid Capital,  Madrid Capital,  Madrid Capital,  Madrid Capital,  Madrid Capital,  Madrid Capital,  Madrid Capital, Alcalá de Henares, Mejorada del Campo, El Álamo, Redueña, Soto del Real, El Álamo, El Álamo, El Álamo, Manzanares El Real,  Madrid Capital, Alcalá de Henares, San Martín de la Vega,  Madrid Capital,  Madrid Capital,  Madrid Capital,  Madrid Capital, El Escorial, Parla, San Lorenzo de El Escorial,  Madrid Capital,  Madrid Capital,  Madrid Capital, Mejorada del Campo,  Madrid Capital,  Madrid Capital, Humanes de Madrid, Garganta de los Montes, Serranillos del Valle,  Madrid Capital, Torrejón de Ardoz,  Madrid Capital, Valdemoro, Arganda del Rey, Ciempozuelos, Torrejón de Ardoz, Móstoles, Fuentidueña de Tajo, Móstoles, Arganda del Rey, Móstoles, Móstoles, Brunete, Móstoles, Serranillos del Valle,  Madrid Capital, Villaviciosa de Odón,  Madrid Capital, Villa del Prado,  Madrid Capital,  Madrid Capital, Villanueva de la Cañada, Villaviciosa de Odón,  Madrid Capital,  Madrid Capital,  Madrid Capital,  Madrid Capital,  Madrid Capital,  Madrid Capital,  Madrid Capital,  Madrid Capital,  Madrid Capital,  Madrid Capital, Villanueva de la Cañada,  Madrid Capital,  Madrid Capital,  Madrid Capital,  Madrid Capital,  Madrid Capital,  Madrid Capital,  Madrid Capital, Las Rozas de Madrid, Navas del Rey, Leganés,  Madrid Capital,  Madrid Capital, Pozuelo de Alarcón,  Madrid Capital,  Madrid Capital, Colmenar de Oreja, Guadarrama,  Madrid Capital, Parla, Humanes de Madrid,  Madrid Capital,  Madrid Capital, Paracuellos de Jarama, Alcorcón,  Madrid Capital, Valdemanco,  Madrid Capital,  Madrid Capital,  Madrid Capital, Parla, Valdemoro, Collado Villalba,  Madrid Capital, Humanes de Madrid, Sevilla la Nueva,  Madrid Capital, Ciempozuelos, Alcobendas,  Madrid Capital, Robledo de Chavela, Villanueva de la Cañada,  Madrid Capital,  Madrid Capital,  Madrid Capital,  Madrid Capital, Alcobendas, Pozuelo de Alarcón, Humanes de Madrid, Sevilla la Nueva,  Madrid Capital, Ciempozuelos, Alcobendas,  Madrid Capital, Robledo de Chavela, Villanueva de la Cañada,  Madrid Capital,  Madrid Capital,  Madrid Capital,  Madrid Capital, Alcobendas, Pozuelo de Alarcón,  Madrid Capital,  Madrid Capital, Villaviciosa de Odón,  Madrid Capital,  Madrid Capital, Cercedilla,  Madrid Capital, Móstoles, San Lorenzo de El Escorial, San Lorenzo de El Escorial,  Madrid Capital, Villamanta,  Madrid Capital, San Lorenzo de El Escorial,  Madrid Capital,  Madrid Capital,  Madrid Capital,  Madrid Capital,  Madrid Capital, Aranjuez, Meco, Alcorcón,  Madrid Capital,  Madrid Capital, Alcalá de Henares,  Madrid Capital,  Madrid Capital, Alcobendas, Collado Villalba,  Madrid Capital, Villanueva del Pardillo,  Madrid Capital,  Madrid Capital,  Madrid Capital,  Madrid Capital, Fuenlabrada,  Madrid Capital, El Escorial,  Madrid Capital, Arroyomolinos (Madrid), Villanueva de la Cañada, Parla,  Madrid Capital,  Madrid Capital,  Madrid Capital, Moralzarzal, El Vellón, Torrejón de Ardoz,  Madrid Capital,  Madrid Capital,  Madrid Capital,  Madrid Capital,  Madrid Capital,  Madrid Capital,  Madrid Capital, Pozuelo de Alarcón, Aranjuez, San Martín de Valdeiglesias,  Madrid Capital, Alcalá de Henares, Valdemoro, Las Rozas de Madrid,  Madrid Capital,  Madrid Capital,  Madrid Capital, Loeches,  Madrid Capital,  Madrid Capital,  Madrid Capital, San Sebastián de los Reyes, Pinto,  Madrid Capital,  Madrid Capital, Valdemoro, Getafe, Majadahonda,  Madrid Capital, Rivas-vaciamadrid,  Madrid Capital,  Madrid Capital, Villanueva del Pardillo, San Martín de la Vega, Alcalá de Henares, Canencia, Pinto,  Madrid Capital,  Madrid Capital, Pinto,  Madrid Capital,  Madrid Capital,  Madrid Capital, Leganés, Velilla de San Antonio, Navalcarnero, Bustarviejo, Valdemoro, Moralzarzal, Sevilla la Nueva,  Madrid Capital, Estremera,  Madrid Capital,  Madrid Capital, Villanueva del Pardillo,  Madrid Capital,  Madrid Capital,  Madrid Capital, Móstoles, Valdemanco, San Lorenzo de El Escorial, Aranjuez, San Sebastián de los Reyes, Coslada, Las Rozas de Madrid, Alcorcón,  Madrid Capital,  Madrid Capital, Robledo de Chavela, Alcobendas,  Madrid Capital, Manzanares El Real,  Madrid Capital,  Madrid Capital,  Madrid Capital,  Madrid Capital,  Madrid Capital, Pozuelo de Alarcón, Torres de la Alameda, Las Rozas de Madrid,  Madrid Capital,  Madrid Capital,  Madrid Capital,  Madrid Capital, Alcobendas,  Madrid Capital, Getafe, Valdemanco,  Madrid Capital, Cabanillas de la Sierra,  Madrid Capital, San Lorenzo de El Escorial,  Madrid Capital,  Madrid Capital,  Madrid Capital, Las Rozas de Madrid,  Madrid Capital,  Madrid Capital, Alcalá de Henares, Pozuelo de Alarcón, Rivas-vaciamadrid,  Madrid Capital,  Madrid Capital,  Madrid Capital,  Madrid Capital, Coslada,  Madrid Capital, Arroyomolinos (Madrid), Tres Cantos,  Madrid Capital, Alcorcón,  Madrid Capital, Bustarviejo,  Madrid Capital, Alcalá de Henares,  Madrid Capital,  Madrid Capital, Valdeolmos-Alalpardo, San Martín de la Vega, Miraflores de la Sierra,  Madrid Capital,  Madrid Capital, Valdemoro, Alcorcón,  Madrid Capital,  Madrid Capital,  Madrid Capital,  Madrid Capital, Talamanca de Jarama, Arganda del Rey,  Madrid Capital, Fresnedillas de la Oliva,  Madrid Capital,  Madrid Capital, Alcalá de Henares,  Madrid Capital,  Madrid Capital, Getafe, Valdemorillo, Meco,  Madrid Capital,  Madrid Capital,  Madrid Capital, Manzanares El Real,  Madrid Capital,  Madrid Capital, Galapagar,  Madrid Capital,  Madrid Capital,  Madrid Capital,  Madrid Capital, Parla,  Madrid Capital,  Madrid Capital, Pelayos de la Presa,  Madrid Capital, Miraflores de la Sierra, Velilla de San Antonio,  Madrid Capital,  Madrid Capital, Pozuelo de Alarcón,  Madrid Capital,  Madrid Capital, San Martín de la Vega, Robledo de Chavela, Aranjuez, Los Santos de la Humosa, Colmenar de Oreja,  Madrid Capital,  Madrid Capital, Coslada,  Madrid Capital, Arganda del Rey, Alcalá de Henares, Torrejón de Ardoz, Parla,  Madrid Capital,  Madrid Capital, Parla, Coslada,  Madrid Capital,  Madrid Capital, Villanueva de la Cañada, Chinchón, Moralzarzal,  Madrid Capital,  Madrid Capital,  Madrid Capital,  Madrid Capital,  Madrid Capital, San Sebastián de los Reyes, Valdemoro,  Madrid Capital, Fuenlabrada,  Madrid Capital, Tres Cantos,  Madrid Capital, Las Rozas de Madrid, Parla, San Fernando de Henares,  Madrid Capital, Leganés,  Madrid Capital,  Madrid Capital, Camarma de Esteruelas,  Madrid Capital, Fuenlabrada, Leganés, Valdemoro,  Madrid Capital, Valdemoro,  Madrid Capital, Getafe,  Madrid Capital,  Madrid Capital,  Madrid Capital,  Madrid Capital,  Madrid Capital, Getafe,  Madrid Capital, Soto del Real,  Madrid Capital,  Madrid Capital,  Madrid Capital, Valdemoro,  Madrid Capital,  Madrid Capital,  Madrid Capital, Rivas-vaciamadrid, Móstoles,  Madrid Capital, Arganda del Rey, San Martín de la Vega, Móstoles,  Madrid Capital,  Madrid Capital, Velilla de San Antonio, Alcalá de Henares, Getafe, Villalbilla, Arganda del Rey, Getafe, San Sebastián de los Reyes, Villanueva de la Cañada, El Boalo - Cerceda – Mataelpino, Torrejón de Ardoz, Las Rozas de Madrid, Mejorada del Campo, Parla, San Sebastián de los Reyes,  Madrid Capital, Navalcarnero,  Madrid Capital, El Berrueco,  Madrid Capital, Arganda del Rey, Getafe, Móstoles, Coslada, Torrejón de la Calzada, Humanes de Madrid,  Madrid Capital,  Madrid Capital,  Madrid Capital, Getafe, Fuenlabrada,  Madrid Capital, Alcorcón, Torrejón de Ardoz,  Madrid Capital, Brunete, Aranjuez, Valdemoro,  Madrid Capital, Getafe,  Madrid Capital, Miraflores de la Sierra,  Madrid Capital, Buitrago del Lozoya, Las Rozas de Madrid,  Madrid Capital,  Madrid Capital,  Madrid Capital, Las Rozas de Madrid, Torrejón de Ardoz,  Madrid Capital, Humanes de Madrid, San Sebastián de los Reyes, Torrejón de Ardoz, Getafe, Navalcarnero,  Madrid Capital, Alcorcón, Loeches,  Madrid Capital,  Madrid Capital, San Sebastián de los Reyes, Cercedilla,  Madrid Capital, Torrejón de Ardoz, Aldea del Fresno,  Madrid Capital,  Madrid Capital,  Madrid Capital,  Madrid Capital,  Madrid Capital, Alcalá de Henares, Camarma de Esteruelas,  Madrid Capital, Alcalá de Henares, Alcalá de Henares, El Álamo,  Madrid Capital, Torrejón de la Calzada,  Madrid Capital, San Martín de la Vega,  Madrid Capital, Cubas de la Sagra,  Madrid Capital, Buitrago del Lozoya,  Madrid Capital,  Madrid Capital,  Madrid Capital,  Madrid Capital,  Madrid Capital, Buitrago del Lozoya,  Madrid Capital, Horcajo de la Sierra,  Madrid Capital, Torrejón de Velasco, Cubas de la Sagra,  Madrid Capital,  Madrid Capital,  Madrid Capital,  Madrid Capital, San Martín de la Vega, Parla,  Madrid Capital,  Madrid Capital,  Madrid Capital,  Madrid Capital, San Martín de la Vega, Parla, Rivas-vaciamadrid, Valdemoro, Leganés, Becerril de la Sierra,  Madrid Capital,  Madrid Capital,  Madrid Capital, Pinto, El Escorial, Pinto, Pinto,  Madrid Capital, Pinto, Valdemoro,  Madrid Capital, Pinto,  Madrid Capital, Pinto, Valdemoro,  Madrid Capital, Pinto,  Madrid Capital,  Madrid Capital, Los Santos de la Humosa, Pinto, Villavieja del Lozoya,  Madrid Capital, Coslada, Collado Villalba, Talamanca de Jarama, Carabaña, Alcobendas, Torrejón de la Calzada, Alpedrete,  Madrid Capital, Rivas-vaciamadrid, Alcobendas, San Sebastián de los Reyes, Alcalá de Henares,  Madrid Capital, Aranjuez,  Madrid Capital, Alcobendas,  Madrid Capital, Collado Villalba, Manzanares El Real, Ciempozuelos, Collado Villalba, Alcobendas, Fresnedillas de la Oliva, Villa del Prado,  Madrid Capital, Colmenar de Oreja, Corpa, Alcobendas, Bustarviejo, Villa del Prado,  Madrid Capital,  Madrid Capital, Pozuelo del Rey,  Madrid Capital, Las Rozas de Madrid, Villar del Olmo, Torrelodones, Villa del Prado, Morata de Tajuña, San Sebastián de los Reyes, San Martín de la Vega, Nuevo Baztán, El Álamo, Ciempozuelos, Carabaña, San Sebastián de los Reyes, San Martín de Valdeiglesias, Miraflores de la Sierra,  Madrid Capital, Ciempozuelos,  Madrid Capital,  Madrid Capital,  Madrid Capital,  Madrid Capital, Ciempozuelos,  Madrid Capital, Torrejón de Ardoz, Guadalix de la Sierra, Villa del Prado, Ciempozuelos, Morata de Tajuña, Torres de la Alameda, Villa del Prado, Ciempozuelos, Valdeavero, Villamantilla, Ciempozuelos,  Madrid Capital, Torrelodones, Torrelaguna, Torres de la Alameda,  Madrid Capital, San Sebastián de los Reyes,  Madrid Capital, Miraflores de la Sierra,  Madrid Capital,  Madrid Capital, Aranjuez, Morata de Tajuña, Torrelaguna, Aldea del Fresno,  Madrid Capital, Getafe, Garganta de los Montes, Getafe, Villalbilla,  Madrid Capital, Villarejo de Salvanés, Tielmes,  Madrid Capital, San Sebastián de los Reyes, Villalbilla, San Sebastián de los Reyes, Fresno de Torote, Torrejón de Ardoz, Móstoles, Torrejón de Ardoz, Carabaña, San Martín de Valdeiglesias, Pinto, Los Santos de la Humosa,  Madrid Capital, Manzanares El Real, Fuenlabrada,  Madrid Capital,  Madrid Capital, Gargantilla del Lozoya, Ciempozuelos, Gargantilla del Lozoya, Ciempozuelos,  Madrid Capital, Torres de la Alameda, Alcalá de Henares, La Cabrera, Chinchón, San Martín de la Vega, Leganés, Ciempozuelos, Getafe, Daganzo de Arriba, San Sebastián de los Reyes, Torrejón de Ardoz, Collado Villalba,  Madrid Capital,  Madrid Capital, Garganta de los Montes, Villa del Prado,  Madrid Capital, Nuevo Baztán, Alcalá de Henares, San Fernando de Henares,  Madrid Capital,  Madrid Capital,  Madrid Capital,  Madrid Capital, Boadilla del Monte, San Sebastián de los Reyes, Boadilla del Monte, Fuente El Saz de Jarama,  Madrid Capital,  Madrid Capital,  Madrid Capital, Colmenar Viejo,  Madrid Capital, San Martín de Valdeiglesias, Villanueva de la Cañada, Villarejo de Salvanés, Aranjuez, Venturada, Villanueva de la Cañada,  Madrid Capital, Colmenar de Oreja, Villarejo de Salvanés, El Escorial, Ribatejada, Villar del Olmo, Miraflores de la Sierra, Villarejo de Salvanés, Sevilla la Nueva, Valdemorillo, Torrelaguna, Robledo de Chavela, Valdemaqueda, Talamanca de Jarama, Villarejo de Salvanés, Nuevo Baztán, Torrelaguna, Orusco de Tajuña, Robledo de Chavela, Alcalá de Henares, Venturada, Velilla de San Antonio,  Madrid Capital, Tielmes, Villavieja del Lozoya, Velilla de San Antonio, Soto del Real, Orusco de Tajuña, Alcalá de Henares, Torrejón de la Calzada, Aranjuez, Collado Villalba, Fuentidueña de Tajo, San Martín de Valdeiglesias, Alcorcón, Villarejo de Salvanés, Villalbilla, Torrejón de la Calzada, Villarejo de Salvanés, Guadalix de la Sierra, Arganda del Rey, Cenicientos, Guadarrama, Corpa, Belmonte de Tajo, Campo Real, Alcalá de Henares, Miraflores de la Sierra, Cubas de la Sagra, San Martín de Valdeiglesias, Valdilecha, Fuentidueña de Tajo, Fuentidueña de Tajo, Villanueva de la Cañada, San Martín de la Vega,  Madrid Capital, Orusco de Tajuña, Morata de Tajuña,  Madrid Capital, San Martín de la Vega, Cobeña, Móstoles, San Martín de Valdeiglesias, Cercedilla, Guadarrama, Tielmes, El Escorial, Robregordo,  Madrid Capital,  Madrid Capital, Sevilla la Nueva, Arroyomolinos (Madrid), Parla, Alcorcón,  Madrid Capital,  Madrid Capital, Pinto,  Madrid Capital,  Madrid Capital, Pinto, Pinto, Leganés,  Madrid Capital, Colmenar Viejo, Pinto, Getafe, Fuenlabrada,  Madrid Capital, Coslada, Arroyomolinos (Madrid),  Madrid Capital, Rivas-vaciamadrid, Alcalá de Henares,  Madrid Capital, Alcalá de Henares, Humanes de Madrid, Colmenar Viejo, Fuenlabrada, Parla,  Madrid Capital, Alcalá de Henares,  Madrid Capital,  Madrid Capital,  Madrid Capital, Móstoles,  Madrid Capital, Alcorcón, Alcorcón, Villanueva del Pardillo, Collado Mediano,  Madrid Capital, Majadahonda,  Madrid Capital, El Molar (Madrid), Boadilla del Monte, San Martín de la Vega, Villanueva del Pardillo,  Madrid Capital, Boadilla del Monte, Getafe, Fuenlabrada, Móstoles, San Agustín del Guadalix, Algete, El Álamo, Quijorna, San Sebastián de los Reyes, Quijorna, Villaviciosa de Odón, Sevilla la Nueva, Navalcarnero, Móstoles, San Sebastián de los Reyes,  Madrid Capital, Colmenar de Oreja, San Martín de la Vega, Valdetorres de Jarama, San Sebastián de los Reyes, Algete, El Álamo, Quijorna, San Sebastián de los Reyes, Quijorna, Villaviciosa de Odón, Sevilla la Nueva, Navalcarnero, Móstoles, San Sebastián de los Reyes,  Madrid Capital, Colmenar de Oreja, San Martín de la Vega, Valdetorres de Jarama, San Sebastián de los Reyes, San Sebastián de los Reyes, Pedrezuela, Algete, San Sebastián de los Reyes, San Sebastián de los Reyes, Valdeolmos-Alalpardo, Algete,  Madrid Capital, Meco,  Madrid Capital, Galapagar, Galapagar, Alcorcón,  Madrid Capital,  Madrid Capital, Fuenlabrada, Coslada, Aranjuez, Alcorcón, Torrelaguna, Parla,  Madrid Capital,  Madrid Capital, San Lorenzo de El Escorial, Majadahonda, San Fernando de Henares,  Madrid Capital, Fuenlabrada,  Madrid Capital,  Madrid Capital, Alcalá de Henares,  Madrid Capital, Soto del Real, Alcalá de Henares,  Madrid Capital, Alcalá de Henares, Alcalá de Henares, Majadahonda,  Madrid Capital, Majadahonda, Pinto,  Madrid Capital, Majadahonda,  Madrid Capital, Arroyomolinos (Madrid), Parla, Torrejón de la Calzada, Fuenlabrada, Meco,  Madrid Capital,  Madrid Capital, Fuenlabrada,  Madrid Capital,  Madrid Capital, Alcalá de Henares, Pinto,  Madrid Capital, Villar del Olmo, Alcalá de Henares, Alcalá de Henares, Alcalá de Henares, Alcalá de Henares,  Madrid Capital, Alcalá de Henares,  Madrid Capital, Alcalá de Henares, Alcalá de Henares, Villalbilla, Torrejón de Ardoz, Alcalá de Henares, Alcalá de Henares, Villalbilla,  Madrid Capital, Las Rozas de Madrid, Parla, Parla, Alcalá de Henares,  Madrid Capital, Alcalá de Henares, Alcalá de Henares, Alcalá de Henares, Alcalá de Henares, Arroyomolinos (Madrid),  Madrid Capital, Alcalá de Henares, Alcorcón,  Madrid Capital,  Madrid Capital, Alcalá de Henares, Alcalá de Henares, Parla,  Madrid Capital, Alcalá de Henares, Coslada, Ciempozuelos, Fuenlabrada, Móstoles, Ciempozuelos,  Madrid Capital, Alcorcón, Móstoles, Móstoles,  Madrid Capital, Móstoles,  Madrid Capital,  Madrid Capital,  Madrid Capital,  Madrid Capital,  Madrid Capital,  Madrid Capital,  Madrid Capital,  Madrid Capital, Hoyo de Manzanares,  Madrid Capital,  Madrid Capital, San Sebastián de los Reyes,  Madrid Capital,  Madrid Capital, Las Rozas de Madrid, Leganés,  Madrid Capital, Majadahonda,  Madrid Capital,  Madrid Capital,  Madrid Capital, Manzanares El Real,  Madrid Capital, Valdemoro, Humanes de Madrid, Getafe, Parla,  Madrid Capital, Becerril de la Sierra, Collado Villalba, Pozuelo de Alarcón, Pozuelo de Alarcón,  Madrid Capital,  Madrid Capital, Coslada, Miraflores de la Sierra,  Madrid Capital,  Madrid Capital, Las Rozas de Madrid, Aranjuez, Valdemoro,  Madrid Capital,  Madrid Capital,  Madrid Capital,  Madrid Capital, Las Rozas de Madrid,  Madrid Capital,  Madrid Capital,  Madrid Capital,  Madrid Capital, Majadahonda, Guadarrama, Coslada, Alcalá de Henares,  Madrid Capital, San Fernando de Henares,  Madrid Capital,  Madrid Capital,  Madrid Capital, Parla,  Madrid Capital, Campo Real, Villarejo de Salvanés,  Madrid Capital, Getafe, El Boalo - Cerceda – Mataelpino,  Madrid Capital, Valdemoro,  Madrid Capital, San Sebastián de los Reyes, Valdemoro, Collado Villalba, Alcalá de Henares,  Madrid Capital, Pinto, Pinto, Pinto, Pinto,  Madrid Capital, Coslada, Alcalá de Henares,  Madrid Capital, Alcalá de Henares, Alcalá de Henares,  Madrid Capital,  Madrid Capital,  Madrid Capital, San Fernando de Henares, Coslada,  Madrid Capital,  Madrid Capital,  Madrid Capital,  Madrid Capital,  Madrid Capital,  Madrid Capital,  Madrid Capital,  Madrid Capital,  Madrid Capital,  Madrid Capital,  Madrid Capital,  Madrid Capital,  Madrid Capital, Fuenlabrada,  Madrid Capital,  Madrid Capital,  Madrid Capital,  Madrid Capital,  Madrid Capital,  Madrid Capital, Navalagamella,  Madrid Capital, Pozuelo de Alarcón,  Madrid Capital, Becerril de la Sierra,  Madrid Capital,  Madrid Capital, Torrelodones, Guadarrama, Fuenlabrada, Leganés,  Madrid Capital,  Madrid Capital, San Martín de Valdeiglesias, Torrelodones,  Madrid Capital, Leganés, Aranjuez,  Madrid Capital, Collado Villalba,  Madrid Capital,  Madrid Capital,  Madrid Capital, Parla, Parla, Alcalá de Henares, Las Rozas de Madrid,  Madrid Capital, Torrejón de Ardoz, Pinto, Ciempozuelos,  Madrid Capital,  Madrid Capital,  Madrid Capital,  Madrid Capital, Valdeolmos-Alalpardo,  Madrid Capital,  Madrid Capital,  Madrid Capital, Leganés,  Madrid Capital, Alcobendas,  Madrid Capital, San Sebastián de los Reyes,  Madrid Capital,  Madrid Capital,  Madrid Capital,  Madrid Capital, Pinto, Alcobendas,  Madrid Capital,  Madrid Capital, San Sebastián de los Reyes,  Madrid Capital, Leganés,  Madrid Capital,  Madrid Capital,  Madrid Capital,  Madrid Capital,  Madrid Capital,  Madrid Capital,  Madrid Capital, Villamantilla,  Madrid Capital,  Madrid Capital,  Madrid Capital, Collado Villalba,  Madrid Capital,  Madrid Capital,  Madrid Capital, Galapagar, Fuenlabrada, Alcorcón, Fuenlabrada,  Madrid Capital,  Madrid Capital,  Madrid Capital, Alcobendas, San Sebastián de los Reyes, Alcobendas, San Sebastián de los Reyes, San Sebastián de los Reyes, Alcobendas, Alcobendas, San Sebastián de los Reyes, Alcobendas, San Sebastián de los Reyes,  Madrid Capital, San Martín de la Vega,  Madrid Capital,  Madrid Capital,  Madrid Capital,  Madrid Capital,  Madrid Capital,  Madrid Capital,  Madrid Capital, Getafe,  Madrid Capital,  Madrid Capital,  Madrid Capital, Fuenlabrada,  Madrid Capital,  Madrid Capital, Móstoles,  Madrid Capital, Alcorcón, Alcorcón, Alcalá de Henares, Colmenar de Oreja, Alcalá de Henares, Alcorcón, Alcorcón, Alcorcón, Fuenlabrada,  Madrid Capital,  Madrid Capital,  Madrid Capital, Torrejón de Ardoz,  Madrid Capital,  Madrid Capital,  Madrid Capital, Alcobendas, Majadahonda,  Madrid Capital,  Madrid Capital,  Madrid Capital,  Madrid Capital,  Madrid Capital,  Madrid Capital,  Madrid Capital,  Madrid Capital,  Madrid Capital, Coslada, El Molar (Madrid), Pozuelo de Alarcón, Pozuelo de Alarcón, Pozuelo de Alarcón,  Madrid Capital, Pozuelo de Alarcón, Humanes de Madrid, Fuenlabrada, Fuenlabrada, Galapagar,  Madrid Capital,  Madrid Capital, Ciempozuelos,  Madrid Capital,  Madrid Capital,  Madrid Capital,  Madrid Capital,  Madrid Capital,  Madrid Capital,  Madrid Capital,  Madrid Capital,  Madrid Capital,  Madrid Capital, Loeches, El Escorial,  Madrid Capital,  Madrid Capital, Móstoles, Villaviciosa de Odón, Alcorcón, Fuenlabrada, Fuenlabrada, Fuenlabrada, Moraleja de Enmedio, Fuenlabrada, Fuenlabrada, Fuenlabrada, Torrejón de Ardoz, Valdemorillo, Torrejón de Ardoz, Torrejón de Ardoz, Pinto, Valdemorillo, San Sebastián de los Reyes, Valdemorillo, Valdemorillo, Fuenlabrada, Brunete, Manzanares El Real, San Sebastián de los Reyes, Alcobendas, Valdemorillo, Valdemorillo, Alcobendas, Valdemorillo,  Madrid Capital,  Madrid Capital, Alcobendas,  Madrid Capital,  Madrid Capital,  Madrid Capital,  Madrid Capital,  Madrid Capital,  Madrid Capital,  Madrid Capital,  Madrid Capital,  Madrid Capital, Las Rozas de Madrid,  Madrid Capital, Fuentidueña de Tajo,  Madrid Capital,  Madrid Capital,  Madrid Capital,  Madrid Capital,  Madrid Capital,  Madrid Capital, Las Rozas de Madrid, Las Rozas de Madrid,  Madrid Capital,  Madrid Capital, El Escorial,  Madrid Capital,  Madrid Capital,  Madrid Capital, Loeches, Collado Villalba,  Madrid Capital,  Madrid Capital,  Madrid Capital,  Madrid Capital,  Madrid Capital, Villanueva de la Cañada,  Madrid Capital, Fuenlabrada, Fuenlabrada, El Escorial, Las Rozas de Madrid,  Madrid Capital, San Martín de Valdeiglesias, Chinchón,  Madrid Capital,  Madrid Capital,  Madrid Capital, Navas del Rey, Rivas-vaciamadrid,  Madrid Capital,  Madrid Capital,  Madrid Capital,  Madrid Capital, San Martín de Valdeiglesias, San Martín de Valdeiglesias, Collado Villalba, El Escorial,  Madrid Capital, Navalcarnero, Leganés, Leganés,  Madrid Capital,  Madrid Capital, Paracuellos de Jarama, El Escorial, Parla,  Madrid Capital, Cubas de la Sagra, Móstoles, Fuenlabrada, Pinto, Móstoles, San Fernando de Henares, Velilla de San Antonio, Las Rozas de Madrid, Las Rozas de Madrid, Las Rozas de Madrid, Las Rozas de Madrid, Las Rozas de Madrid, Las Rozas de Madrid, Las Rozas de Madrid, Villalbilla, Parla, Alcalá de Henares, Valdemoro, Valdemorillo,  Madrid Capital, San Sebastián de los Reyes,  Madrid Capital, San Sebastián de los Reyes,  Madrid Capital, Parla,  Madrid Capital,  Madrid Capital, Las Rozas de Madrid, Pozuelo del Rey,  Madrid Capital,  Madrid Capital,  Madrid Capital, El Escorial, Fuenlabrada, Parla,  Madrid Capital,  Madrid Capital,  Madrid Capital, Parla, Hoyo de Manzanares, Parla, Boadilla del Monte, Alcobendas, Las Rozas de Madrid, Alcobendas,  Madrid Capital,  Madrid Capital,  Madrid Capital,  Madrid Capital,  Madrid Capital,  Madrid Capital,  Madrid Capital, Arroyomolinos (Madrid), Arganda del Rey, Alcobendas,  Madrid Capital,  Madrid Capital,  Madrid Capital,  Madrid Capital,  Madrid Capital, Arganda del Rey,  Madrid Capital, Villanueva del Pardillo, Villanueva del Pardillo, Pinto,  Madrid Capital, Alcorcón,  Madrid Capital, Alcobendas, Arganda del Rey,  Madrid Capital,  Madrid Capital, San Lorenzo de El Escorial,  Madrid Capital, Moraleja de Enmedio, Móstoles,  Madrid Capital,  Madrid Capital, San Martín de Valdeiglesias, Móstoles, Villaviciosa de Odón,  Madrid Capital,  Madrid Capital,  Madrid Capital,  Madrid Capital,  Madrid Capital,  Madrid Capital,  Madrid Capital, Pinto,  Madrid Capital,  Madrid Capital,  Madrid Capital,  Madrid Capital,  Madrid Capital, Villaviciosa de Odón,  Madrid Capital, Alcalá de Henares, Mejorada del Campo, San Fernando de Henares,  Madrid Capital,  Madrid Capital, Leganés,  Madrid Capital,  Madrid Capital,  Madrid Capital,  Madrid Capital,  Madrid Capital,  Madrid Capital, Getafe, El Molar (Madrid), Móstoles, Valdetorres de Jarama,  Madrid Capital,  Madrid Capital, Colmenarejo, El Escorial, El Molar (Madrid), Móstoles, Valdetorres de Jarama,  Madrid Capital,  Madrid Capital, Colmenarejo, El Escorial, Galapagar, Galapagar, Quijorna, El Escorial, Galapagar, Las Rozas de Madrid, Galapagar, Galapagar, Galapagar, Parla,  Madrid Capital,  Madrid Capital,  Madrid Capital,  Madrid Capital, Valdemorillo, Las Rozas de Madrid,  Madrid Capital, Las Rozas de Madrid, San Martín de Valdeiglesias, Las Rozas de Madrid,  Madrid Capital, Las Rozas de Madrid, Las Rozas de Madrid, Las Rozas de Madrid,  Madrid Capital, Alpedrete,  Madrid Capital, Aranjuez, Robledo de Chavela, Colmenarejo, El Escorial,  Madrid Capital, Aranjuez, Cabanillas de la Sierra, Moralzarzal,  Madrid Capital, Aranjuez, Valdetorres de Jarama,  Madrid Capital,  Madrid Capital,  Madrid Capital,  Madrid Capital, Torrejón de Ardoz,  Madrid Capital, Móstoles, Colmenar de Oreja, Alcobendas, Villalbilla, Cubas de la Sagra, Colmenar Viejo,  Madrid Capital, Arganda del Rey,  Madrid Capital,  Madrid Capital, Manzanares El Real, Manzanares El Real, Alcobendas,  Madrid Capital,  Madrid Capital,  Madrid Capital,  Madrid Capital,  Madrid Capital,  Madrid Capital,  Madrid Capital,  Madrid Capital, Boadilla del Monte,  Madrid Capital,  Madrid Capital,  Madrid Capital,  Madrid Capital,  Madrid Capital, Alpedrete,  Madrid Capital, Soto del Real, Colmenar Viejo,  Madrid Capital, Las Rozas de Madrid,  Madrid Capital,  Madrid Capital, Santorcaz, Alcalá de Henares, Alcalá de Henares, Alcalá de Henares,  Madrid Capital,  Madrid Capital,  Madrid Capital,  Madrid Capital,  Madrid Capital, Alcalá de Henares,  Madrid Capital, Alcalá de Henares,  Madrid Capital, Alcalá de Henares,  Madrid Capital, Pezuela de las Torres,  Madrid Capital,  Madrid Capital, Alcalá de Henares, Valdeavero, Alcalá de Henares,  Madrid Capital,  Madrid Capital,  Madrid Capital,  Madrid Capital,  Madrid Capital,  Madrid Capital,  Madrid Capital, Casarrubuelos,  Madrid Capital,  Madrid Capital,  Madrid Capital, Alcalá de Henares,  Madrid Capital,  Madrid Capital, Boadilla del Monte,  Madrid Capital,  Madrid Capital,  Madrid Capital,  Madrid Capital, Leganés, Torrejón de la Calzada,  Madrid Capital,  Madrid Capital, Móstoles,  Madrid Capital,  Madrid Capital,  Madrid Capital,  Madrid Capital,  Madrid Capital,  Madrid Capital,  Madrid Capital, Valdemoro,  Madrid Capital, Parla,  Madrid Capital, Alcorcón, Alcobendas,  Madrid Capital, Cubas de la Sagra,  Madrid Capital,  Madrid Capital,  Madrid Capital, Galapagar, Galapagar,  Madrid Capital, Campo Real,  Madrid Capital,  Madrid Capital, San Sebastián de los Reyes, Getafe,  Madrid Capital, Pozuelo de Alarcón,  Madrid Capital, Villanueva de la Cañada,  Madrid Capital,  Madrid Capital,  Madrid Capital,  Madrid Capital, Valdemoro, Pozuelo de Alarcón,  Madrid Capital, Arganda del Rey, Valdemoro, Alcalá de Henares, Alcalá de Henares,  Madrid Capital, Pozuelo de Alarcón, Alcobendas,  Madrid Capital,  Madrid Capital,  Madrid Capital,  Madrid Capital,  Madrid Capital,  Madrid Capital, Alcalá de Henares, Torrejón de Ardoz,  Madrid Capital, Alcobendas, Parla,  Madrid Capital, Ciempozuelos,  Madrid Capital,  Madrid Capital, Majadahonda, Loeches, Gargantilla del Lozoya, San Sebastián de los Reyes, El Boalo - Cerceda – Mataelpino, Torrelodones,  Madrid Capital,  Madrid Capital,  Madrid Capital, Alcalá de Henares, Parla,  Madrid Capital, Alcorcón, Coslada, Alpedrete,  Madrid Capital, Torrejón de Ardoz, Robregordo,  Madrid Capital,  Madrid Capital, Alcorcón,  Madrid Capital, Cenicientos,  Madrid Capital, Las Rozas de Madrid, Alcorcón,  Madrid Capital, Parla, Alcorcón, Leganés, Campo Real, Torrejón de Ardoz, Pinto, Villavieja del Lozoya, Torrejón de Ardoz, Leganés,  Madrid Capital, Alcorcón, Pinto,  Madrid Capital, Torres de la Alameda, Torrejón de Ardoz, Coslada, Móstoles,  Madrid Capital,  Madrid Capital,  Madrid Capital,  Madrid Capital,  Madrid Capital,  Madrid Capital,  Madrid Capital,  Madrid Capital,  Madrid Capital,  Madrid Capital,  Madrid Capital,  Madrid Capital, Becerril de la Sierra, Torrelodones,  Madrid Capital, Guadalix de la Sierra, Pinto,  Madrid Capital,  Madrid Capital, Pedrezuela, El Boalo - Cerceda – Mataelpino, Collado Villalba, Pedrezuela, Miraflores de la Sierra,  Madrid Capital,  Madrid Capital,  Madrid Capital, Miraflores de la Sierra, Miraflores de la Sierra, Torrelodones,  Madrid Capital, Leganés, Pedrezuela, Pozuelo de Alarcón, Pinto, Villanueva de la Cañada, Pinto, Villanueva de la Cañada, Miraflores de la Sierra, Villaviciosa de Odón, Torrelodones,  Madrid Capital,  Madrid Capital, Los Santos de la Humosa, Miraflores de la Sierra, Móstoles, Alcalá de Henares, Miraflores de la Sierra, Guadarrama,  Madrid Capital,  Madrid Capital,  Madrid Capital,  Madrid Capital, Villaviciosa de Odón, Miraflores de la Sierra,  Madrid Capital, Torrelodones, Pinto, Villalbilla, Pedrezuela, Torrelodones, Villaviciosa de Odón, Galapagar,  Madrid Capital, Pozuelo de Alarcón,  Madrid Capital, Miraflores de la Sierra, Becerril de la Sierra, Soto del Real, Moralzarzal, San Fernando de Henares, Parla, Leganés, Meco, Pedrezuela, Manzanares El Real, Alcalá de Henares, Pinto, El Boalo - Cerceda – Mataelpino, Parla, Robledo de Chavela, Leganés,  Madrid Capital, Villalbilla, Becerril de la Sierra, Pozuelo de Alarcón, Miraflores de la Sierra, Soto del Real, Parla, Collado Mediano, Galapagar,  Madrid Capital, Guadalix de la Sierra, Pinto, Miraflores de la Sierra, El Boalo - Cerceda – Mataelpino, Miraflores de la Sierra, Torrelodones,  Madrid Capital, Pedrezuela,  Madrid Capital, Soto del Real, Villa del Prado, Rivas-vaciamadrid, Manzanares El Real, Leganés,  Madrid Capital,  Madrid Capital, El Molar (Madrid), Pedrezuela, Chinchón, El Vellón, Villalbilla, Miraflores de la Sierra, Soto del Real,  Madrid Capital, El Boalo - Cerceda – Mataelpino,  Madrid Capital,  Madrid Capital, El Molar (Madrid), Miraflores de la Sierra, Alcalá de Henares,  Madrid Capital, Pedrezuela,  Madrid Capital, Villaviciosa de Odón, Torrejón de Ardoz,  Madrid Capital,  Madrid Capital, El Molar (Madrid), Aldea del Fresno,  Madrid Capital, Villaviciosa de Odón, Torrelodones, Villaviciosa de Odón, Torrelodones, Bustarviejo,  Madrid Capital, Camarma de Esteruelas, Pedrezuela, Torrelodones, Miraflores de la Sierra, Valdeavero, Leganés, Pedrezuela, Pinto,  Madrid Capital, Hoyo de Manzanares, Torrelodones, Torrelodones, Villamantilla,  Madrid Capital, Torrejón de Ardoz,  Madrid Capital, Alcalá de Henares,  Madrid Capital,  Madrid Capital, Leganés,  Madrid Capital,  Madrid Capital, Alcobendas, Collado Villalba,  Madrid Capital, Las Rozas de Madrid, Serranillos del Valle, San Martín de la Vega,  Madrid Capital, Arganda del Rey, Guadarrama,  Madrid Capital, Cubas de la Sagra, Camarma de Esteruelas, Pinto,  Madrid Capital, Navalagamella,  Madrid Capital,  Madrid Capital,  Madrid Capital, Valdemorillo, Coslada, El Molar (Madrid), Villaviciosa de Odón,  Madrid Capital, Villalbilla, Pedrezuela, Valdemoro, San Lorenzo de El Escorial, Rivas-vaciamadrid, Coslada, Alpedrete, Aranjuez, San Sebastián de los Reyes, Pinto, Arganda del Rey,  Madrid Capital, Valdemorillo, Ciempozuelos, Colmenar Viejo, Miraflores de la Sierra, Arganda del Rey, Pedrezuela, Villanueva de la Cañada, Torrelodones, Valdemoro, Arganda del Rey, Valdemorillo, Collado Villalba,  Madrid Capital,  Madrid Capital,  Madrid Capital,  Madrid Capital, Villaviciosa de Odón, Torrejón de la Calzada,  Madrid Capital,  Madrid Capital, San Sebastián de los Reyes, Guadarrama,  Madrid Capital, Villanueva de la Cañada, Perales de Tajuña, Alcalá de Henares,  Madrid Capital, Chinchón,  Madrid Capital,  Madrid Capital, San Lorenzo de El Escorial,  Madrid Capital, Villanueva de la Cañada,  Madrid Capital,  Madrid Capital, Torrelodones, Pinto, Arganda del Rey,  Madrid Capital, Alpedrete,  Madrid Capital,  Madrid Capital, Valdemoro, Alcalá de Henares, San Sebastián de los Reyes, Loeches, Perales de Tajuña,  Madrid Capital,  Madrid Capital, Alcalá de Henares,  Madrid Capital, Robledo de Chavela, Cadalso de los Vidrios,  Madrid Capital,  Madrid Capital, Getafe, Alcalá de Henares, San Martín de la Vega,  Madrid Capital, Leganés, Colmenar de Oreja, Majadahonda, Villavieja del Lozoya, Perales de Tajuña,  Madrid Capital,  Madrid Capital,  Madrid Capital,  Madrid Capital,  Madrid Capital, Colmenarejo, Villa del Prado, Valdemoro,  Madrid Capital, Collado Villalba,  Madrid Capital,  Madrid Capital, Pedrezuela,  Madrid Capital, Pinto, Colmenarejo,  Madrid Capital, Campo Real,  Madrid Capital,  Madrid Capital, Ciempozuelos,  Madrid Capital, Aldea del Fresno, Alcobendas,  Madrid Capital,  Madrid Capital, Villanueva del Pardillo,  Madrid Capital,  Madrid Capital,  Madrid Capital, Villamanta, Velilla de San Antonio, San Martín de Valdeiglesias,  Madrid Capital, Aranjuez, Pedrezuela,  Madrid Capital,  Madrid Capital, Getafe, San Sebastián de los Reyes, Leganés, Getafe, Valdeavero, Boadilla del Monte,  Madrid Capital, Getafe,  Madrid Capital, Leganés, Getafe, Valdeavero, Boadilla del Monte,  Madrid Capital, Getafe,  Madrid Capital,  Madrid Capital,  Madrid Capital, Torrejón de la Calzada,  Madrid Capital,  Madrid Capital, Ciempozuelos, San Martín de la Vega, Aranjuez,  Madrid Capital, Majadahonda,  Madrid Capital,  Madrid Capital,  Madrid Capital,  Madrid Capital, Arganda del Rey, Miraflores de la Sierra, Getafe, San Martín de la Vega, El Escorial, Alcorcón,  Madrid Capital, Alcalá de Henares, San Martín de la Vega, Coslada, San Lorenzo de El Escorial,  Madrid Capital,  Madrid Capital,  Madrid Capital,  Madrid Capital,  Madrid Capital, Humanes de Madrid,  Madrid Capital,  Madrid Capital, Torres de la Alameda, Colmenar Viejo,  Madrid Capital,  Madrid Capital,  Madrid Capital,  Madrid Capital,  Madrid Capital, Gascones,  Madrid Capital,  Madrid Capital, Arganda del Rey, Valdemaqueda, Valdemorillo,  Madrid Capital, Getafe,  Madrid Capital, Velilla de San Antonio, Arganda del Rey, Brunete, Casarrubuelos, Torrelaguna, Coslada, Rivas-vaciamadrid,  Madrid Capital, San Martín de la Vega, Navalcarnero, El Boalo - Cerceda – Mataelpino, Mejorada del Campo, Las Rozas de Madrid, Villa del Prado, Las Rozas de Madrid,  Madrid Capital, Campo Real, Leganés, Las Rozas de Madrid, Leganés, Torrelodones,  Madrid Capital,  Madrid Capital,  Madrid Capital, Velilla de San Antonio, Morata de Tajuña, Aranjuez, Villa del Prado, Velilla de San Antonio, Fuenlabrada, Getafe, Aldea del Fresno, Leganés, Torrejón de Ardoz, Torrejón de Ardoz, Las Rozas de Madrid, Getafe,  Madrid Capital, Alcalá de Henares, Soto del Real,  Madrid Capital,  Madrid Capital, Getafe,  Madrid Capital,  Madrid Capital, Navacerrada, Collado Mediano, Getafe,  Madrid Capital,  Madrid Capital, Navalcarnero, Coslada,  Madrid Capital,  Madrid Capital,  Madrid Capital, Majadahonda, Alpedrete, Rivas-vaciamadrid, Alcalá de Henares, Collado Villalba,  Madrid Capital,  Madrid Capital, Torrelodones, Las Rozas de Madrid,  Madrid Capital, Las Rozas de Madrid,  Madrid Capital, San Fernando de Henares, Galapagar, Alpedrete, Robledo de Chavela, Galapagar, El Escorial,  Madrid Capital, Robledo de Chavela, San Fernando de Henares,  Madrid Capital, Arganda del Rey, El Escorial,  Madrid Capital, Coslada, San Lorenzo de El Escorial,  Madrid Capital, Miraflores de la Sierra,  Madrid Capital, Villanueva de la Cañada,  Madrid Capital, Alcalá de Henares,  Madrid Capital,  Madrid Capital, Mejorada del Campo, Majadahonda,  Madrid Capital, Orusco de Tajuña, Ajalvir,  Madrid Capital,  Madrid Capital,  Madrid Capital,  Madrid Capital, Alcalá de Henares,  Madrid Capital, Nuevo Baztán, Lozoyuela-navas-sieteiglesias, Villalbilla, Galapagar, Villaviciosa de Odón, San Fernando de Henares, Camarma de Esteruelas, Miraflores de la Sierra, Valdemaqueda, Pelayos de la Presa, Nuevo Baztán,  Madrid Capital, Fuenlabrada, Camarma de Esteruelas, Robledo de Chavela,  Madrid Capital, Moralzarzal, Valdemorillo, Fuenlabrada, Moralzarzal,  Madrid Capital, Titulcia, Tielmes, San Sebastián de los Reyes,  Madrid Capital, Fresno de Torote - Serracines, Valdelaguna, Campo Real, Ciempozuelos, Torrejón de Ardoz, Collado Villalba, Alcobendas,  Madrid Capital,  Madrid Capital, San Sebastián de los Reyes,  Madrid Capital, Camarma de Esteruelas,  Madrid Capital, Galapagar, Arroyomolinos (Madrid),  Madrid Capital, Torrejón de Ardoz, El Escorial, Soto del Real, San Lorenzo de El Escorial, Coslada, Las Rozas de Madrid, Guadarrama, Moralzarzal,  Madrid Capital, San Sebastián de los Reyes,  Madrid Capital, Boadilla del Monte, Boadilla del Monte, Boadilla del Monte, Boadilla del Monte, Boadilla del Monte, Boadilla del Monte, Boadilla del Monte, Boadilla del Monte,  Madrid Capital,  Madrid Capital, Lozoyuela-navas-sieteiglesias,  Madrid Capital,  Madrid Capital,  Madrid Capital,  Madrid Capital,  Madrid Capital,  Madrid Capital,  Madrid Capital,  Madrid Capital,  Madrid Capital,  Madrid Capital,  Madrid Capital,  Madrid Capital,  Madrid Capital,  Madrid Capital,  Madrid Capital, El Molar (Madrid),  Madrid Capital,  Madrid Capital,  Madrid Capital, Boadilla del Monte, Boadilla del Monte,  Madrid Capital,  Madrid Capital,  Madrid Capital, Pozuelo de Alarcón,  Madrid Capital,  Madrid Capital,  Madrid Capital,  Madrid Capital,  Madrid Capital, Las Rozas de Madrid,  Madrid Capital,  Madrid Capital,  Madrid Capital,  Madrid Capital,  Madrid Capital,  Madrid Capital,  Madrid Capital, Leganés, Torrelodones,  Madrid Capital,  Madrid Capital, Guadarrama,  Madrid Capital,  Madrid Capital, Villaviciosa de Odón,  Madrid Capital,  Madrid Capital,  Madrid Capital,  Madrid Capital, Alcobendas,  Madrid Capital, Leganés,  Madrid Capital,  Madrid Capital, Alcobendas, Leganés, Alcobendas,  Madrid Capital,  Madrid Capital,  Madrid Capital,  Madrid Capital, Alcobendas,  Madrid Capital,  Madrid Capital,  Madrid Capital,  Madrid Capital,  Madrid Capital,  Madrid Capital,  Madrid Capital,  Madrid Capital,  Madrid Capital,  Madrid Capital, Torrejón de Ardoz,  Madrid Capital,  Madrid Capital,  Madrid Capital,  Madrid Capital,  Madrid Capital,  Madrid Capital, Getafe, Alcobendas,  Madrid Capital, Leganés,  Madrid Capital,  Madrid Capital, Alcobendas, Leganés, Alcobendas,  Madrid Capital,  Madrid Capital,  Madrid Capital,  Madrid Capital, Alcobendas,  Madrid Capital,  Madrid Capital,  Madrid Capital,  Madrid Capital,  Madrid Capital,  Madrid Capital,  Madrid Capital,  Madrid Capital,  Madrid Capital,  Madrid Capital, Torrejón de Ardoz,  Madrid Capital,  Madrid Capital,  Madrid Capital,  Madrid Capital,  Madrid Capital,  Madrid Capital, Coslada, Coslada,  Madrid Capital, Villalbilla, Villalbilla, Villalbilla,  Madrid Capital, Villalbilla, Villalbilla,  Madrid Capital,  Madrid Capital, Alcalá de Henares,  Madrid Capital,  Madrid Capital,  Madrid Capital,  Madrid Capital,  Madrid Capital,  Madrid Capital,  Madrid Capital, Coslada,  Madrid Capital, Coslada, Parla, Robledo de Chavela, San Lorenzo de El Escorial,  Madrid Capital,  Madrid Capital,  Madrid Capital,  Madrid Capital,  Madrid Capital,  Madrid Capital,  Madrid Capital,  Madrid Capital, Daganzo de Arriba,  Madrid Capital,  Madrid Capital, Getafe,  Madrid Capital, Alcorcón,  Madrid Capital, Aranjuez,  Madrid Capital, Colmenarejo, Fuenlabrada, Majadahonda, Majadahonda,  Madrid Capital,  Madrid Capital, Torrelodones, Arganda del Rey, Alcorcón,  Madrid Capital, Alcorcón,  Madrid Capital,  Madrid Capital, Móstoles, Móstoles, Móstoles, Móstoles, Móstoles, Móstoles, Móstoles, Móstoles, Torrelodones,  Madrid Capital,  Madrid Capital, Valdemorillo,  Madrid Capital,  Madrid Capital,  Madrid Capital,  Madrid Capital,  Madrid Capital, Alcorcón,  Madrid Capital,  Madrid Capital,  Madrid Capital,  Madrid Capital,  Madrid Capital,  Madrid Capital,  Madrid Capital,  Madrid Capital,  Madrid Capital,  Madrid Capital,  Madrid Capital,  Madrid Capital,  Madrid Capital,  Madrid Capital,  Madrid Capital,  Madrid Capital,  Madrid Capital, Pozuelo de Alarcón,  Madrid Capital,  Madrid Capital,  Madrid Capital, Parla,  Madrid Capital,  Madrid Capital,  Madrid Capital,  Madrid Capital, Cubas de la Sagra,  Madrid Capital,  Madrid Capital,  Madrid Capital,  Madrid Capital, Valdepiélagos,  Madrid Capital, Ciempozuelos,  Madrid Capital, Fuenlabrada,  Madrid Capital,  Madrid Capital, Fuenlabrada,  Madrid Capital,  Madrid Capital,  Madrid Capital,  Madrid Capital, Boadilla del Monte,  Madrid Capital, Brunete, Fuenlabrada,  Madrid Capital,  Madrid Capital, Fuenlabrada,  Madrid Capital, Collado Villalba,  Madrid Capital,  Madrid Capital, Fuenlabrada,  Madrid Capital, Valdemoro, Alcalá de Henares, Alcalá de Henares, Alcalá de Henares, Torrejón de Ardoz, Alcalá de Henares, Alcalá de Henares, Alcalá de Henares, Alcalá de Henares, Alcalá de Henares,  Madrid Capital,  Madrid Capital, Villanueva de la Cañada,  Madrid Capital,  Madrid Capital,  Madrid Capital,  Madrid Capital, Móstoles, Fuenlabrada, Fuenlabrada, Navalcarnero,  Madrid Capital,  Madrid Capital,  Madrid Capital,  Madrid Capital,  Madrid Capital,  Madrid Capital,  Madrid Capital,  Madrid Capital,  Madrid Capital,  Madrid Capital,  Madrid Capital,  Madrid Capital,  Madrid Capital,  Madrid Capital,  Madrid Capital,  Madrid Capital,  Madrid Capital,  Madrid Capital,  Madrid Capital,  Madrid Capital,  Madrid Capital,  Madrid Capital, Pinto,  Madrid Capital,  Madrid Capital, San Sebastián de los Reyes,  Madrid Capital,  Madrid Capital, Alcobendas,  Madrid Capital, Móstoles, Pinto, Móstoles, Móstoles, Móstoles, Móstoles, Alcalá de Henares, Alcalá de Henares,  Madrid Capital,  Madrid Capital, Alcalá de Henares,  Madrid Capital, Alcalá de Henares,  Madrid Capital, Pinto, Getafe,  Madrid Capital,  Madrid Capital,  Madrid Capital,  Madrid Capital,  Madrid Capital,  Madrid Capital,  Madrid Capital,  Madrid Capital,  Madrid Capital,  Madrid Capital,  Madrid Capital,  Madrid Capital,  Madrid Capital,  Madrid Capital, Móstoles, Pinto, Móstoles, Móstoles, Móstoles, Móstoles, Alcalá de Henares, Alcalá de Henares,  Madrid Capital,  Madrid Capital, Alcalá de Henares,  Madrid Capital, Alcalá de Henares,  Madrid Capital, Pinto, Getafe,  Madrid Capital,  Madrid Capital,  Madrid Capital,  Madrid Capital,  Madrid Capital,  Madrid Capital,  Madrid Capital,  Madrid Capital,  Madrid Capital,  Madrid Capital,  Madrid Capital,  Madrid Capital,  Madrid Capital,  Madrid Capital, Móstoles, Pinto, Las Rozas de Madrid,  Madrid Capital, Villanueva del Pardillo,  Madrid Capital, Villanueva del Pardillo,  Madrid Capital, Pozuelo de Alarcón,  Madrid Capital, Alcorcón, San Lorenzo de El Escorial, Parla, Cubas de la Sagra,  Madrid Capital,  Madrid Capital,  Madrid Capital,  Madrid Capital,  Madrid Capital,  Madrid Capital, Algete, Algete, San Sebastián de los Reyes,  Madrid Capital, San Sebastián de los Reyes, San Sebastián de los Reyes, San Sebastián de los Reyes, San Sebastián de los Reyes, Algete, San Sebastián de los Reyes,  Madrid Capital,  Madrid Capital,  Madrid Capital,  Madrid Capital, Brunete, Brunete,  Madrid Capital,  Madrid Capital, Valdemorillo, Ciempozuelos,  Madrid Capital,  Madrid Capital, Paracuellos de Jarama,  Madrid Capital,  Madrid Capital,  Madrid Capital,  Madrid Capital, Navalagamella,  Madrid Capital, Villaviciosa de Odón,  Madrid Capital, Torrejón de Ardoz, Móstoles, Móstoles, Aranjuez, Pinilla del Valle, Collado Villalba, Arganda del Rey, Móstoles, Fuenlabrada, Ciempozuelos,  Madrid Capital, Manzanares El Real,  Madrid Capital,  Madrid Capital, Nuevo Baztán, Collado Villalba,  Madrid Capital, San Sebastián de los Reyes, Alcobendas, San Sebastián de los Reyes, Alcobendas, Algete, Alcobendas, Alcobendas, Alcobendas, Alcobendas, Alcobendas, Alcobendas,  Madrid Capital,  Madrid Capital,  Madrid Capital,  Madrid Capital,  Madrid Capital, Miraflores de la Sierra,  Madrid Capital,  Madrid Capital, Getafe,  Madrid Capital, Leganés,  Madrid Capital,  Madrid Capital, Leganés, Alcorcón, Alcorcón, Alcorcón, Aldea del Fresno, Villamantilla,  Madrid Capital, Alcalá de Henares,  Madrid Capital, Móstoles,  Madrid Capital, Navalcarnero,  Madrid Capital,  Madrid Capital,  Madrid Capital, El Molar (Madrid),  Madrid Capital,  Madrid Capital,  Madrid Capital,  Madrid Capital,  Madrid Capital,  Madrid Capital,  Madrid Capital,  Madrid Capital,  Madrid Capital,  Madrid Capital, Getafe,  Madrid Capital,  Madrid Capital, Getafe,  Madrid Capital,  Madrid Capital,  Madrid Capital, Camarma de Esteruelas, Getafe, Getafe,  Madrid Capital,  Madrid Capital, Getafe, Coslada, Coslada, Coslada, Coslada,  Madrid Capital, Coslada,  Madrid Capital,  Madrid Capital,  Madrid Capital, Fuenlabrada,  Madrid Capital,  Madrid Capital,  Madrid Capital,  Madrid Capital,  Madrid Capital,  Madrid Capital,  Madrid Capital,  Madrid Capital,  Madrid Capital,  Madrid Capital,  Madrid Capital,  Madrid Capital,  Madrid Capital,  Madrid Capital,  Madrid Capital, Pozuelo del Rey, Torres de la Alameda,  Madrid Capital, Alcalá de Henares, Alcalá de Henares, Alcalá de Henares, Alcalá de Henares, Anchuelo,  Madrid Capital,  Madrid Capital, Torres de la Alameda, Fuenlabrada,  Madrid Capital,  Madrid Capital, El Álamo, Manzanares El Real,  Madrid Capital,  Madrid Capital, San Sebastián de los Reyes, San Sebastián de los Reyes,  Madrid Capital, San Sebastián de los Reyes, San Sebastián de los Reyes, San Sebastián de los Reyes, Coslada, Colmenar Viejo, Hoyo de Manzanares,  Madrid Capital, Fuenlabrada,  Madrid Capital, Valdemoro, Fuenlabrada, San Sebastián de los Reyes, Leganés, Torres de la Alameda, Móstoles, Arroyomolinos (Madrid), Móstoles, Móstoles, Móstoles, Arganda del Rey, Parla, Torres de la Alameda, Ciempozuelos, Robledo de Chavela, Fuenlabrada, Torres de la Alameda, Leganés, Leganés, Alcorcón, Torrejón de Velasco,  Madrid Capital,  Madrid Capital,  Madrid Capital, El Molar (Madrid), El Molar (Madrid), El Molar (Madrid), Talamanca de Jarama, Cabanillas de la Sierra, El Molar (Madrid), El Molar (Madrid), Torres de la Alameda,  Madrid Capital, El Molar (Madrid),  Madrid Capital, Leganés, Coslada, Coslada, Pozuelo del Rey, Coslada, Coslada,  Madrid Capital, Villalbilla, Móstoles, San Lorenzo de El Escorial,  Madrid Capital,  Madrid Capital, Fuenlabrada, Parla, Fuenlabrada,  Madrid Capital, Torrejón de Ardoz, Móstoles, Móstoles, Villalbilla, Torrejón de Ardoz, Torrejón de Ardoz,  Madrid Capital,  Madrid Capital, Fuenlabrada, Cenicientos, Loeches, Cabanillas de la Sierra,  Madrid Capital, Collado Villalba, Los Molinos, Griñón, Villalbilla,  Madrid Capital, Leganés, Guadarrama,  Madrid Capital, Alpedrete,  Madrid Capital,  Madrid Capital, Aldea del Fresno,  Madrid Capital,  Madrid Capital,  Madrid Capital, Torres de la Alameda, Alcalá de Henares,  Madrid Capital,  Madrid Capital, Torres de la Alameda, Villaviciosa de Odón, Villaviciosa de Odón, Torres de la Alameda,  Madrid Capital,  Madrid Capital,  Madrid Capital, Chinchón,  Madrid Capital, Colmenar de Oreja, Móstoles,  Madrid Capital,  Madrid Capital, Pozuelo del Rey, Torrejón de Ardoz, Torrelodones, Collado Mediano, Torres de la Alameda, Alpedrete,  Madrid Capital,  Madrid Capital,  Madrid Capital,  Madrid Capital,  Madrid Capital,  Madrid Capital,  Madrid Capital,  Madrid Capital,  Madrid Capital,  Madrid Capital,  Madrid Capital,  Madrid Capital,  Madrid Capital,  Madrid Capital,  Madrid Capital, Alcorcón,  Madrid Capital, Torrelodones, Torrelodones, Galapagar,  Madrid Capital, Galapagar, Móstoles,  Madrid Capital,  Madrid Capital,  Madrid Capital,  Madrid Capital,  Madrid Capital, Torres de la Alameda,  Madrid Capital,  Madrid Capital,  Madrid Capital, Móstoles, Serranillos del Valle,  Madrid Capital, Galapagar,  Madrid Capital,  Madrid Capital,  Madrid Capital, Collado Villalba,  Madrid Capital, Las Rozas de Madrid,  Madrid Capital,  Madrid Capital,  Madrid Capital, Leganés, Navalcarnero, Moralzarzal,  Madrid Capital, Parla,  Madrid Capital,  Madrid Capital, Collado Villalba,  Madrid Capital,  Madrid Capital,  Madrid Capital,  Madrid Capital, Torrejón de Ardoz,  Madrid Capital,  Madrid Capital,  Madrid Capital,  Madrid Capital,  Madrid Capital,  Madrid Capital, Collado Villalba,  Madrid Capital, Arganda del Rey,  Madrid Capital,  Madrid Capital,  Madrid Capital, Villaviciosa de Odón,  Madrid Capital, Morata de Tajuña, Villalbilla,  Madrid Capital, Alcobendas, Villaviciosa de Odón,  Madrid Capital,  Madrid Capital,  Madrid Capital, Villanueva del Pardillo,  Madrid Capital, San Martín de la Vega, San Martín de la Vega,  Madrid Capital,  Madrid Capital,  Madrid Capital,  Madrid Capital, San Martín de la Vega, San Martín de la Vega, San Martín de la Vega,  Madrid Capital, Soto del Real,  Madrid Capital,  Madrid Capital, San Martín de la Vega,  Madrid Capital,  Madrid Capital, San Martín de la Vega, Alcalá de Henares,  Madrid Capital, Leganés, Coslada, San Martín de la Vega, San Sebastián de los Reyes, San Martín de la Vega,  Madrid Capital,  Madrid Capital, Los Molinos,  Madrid Capital,  Madrid Capital, Collado Villalba,  Madrid Capital, Parla,  Madrid Capital,  Madrid Capital, Las Rozas de Madrid, San Sebastián de los Reyes, Las Rozas de Madrid,  Madrid Capital,  Madrid Capital, Las Rozas de Madrid, Las Rozas de Madrid,  Madrid Capital, Torrelodones,  Madrid Capital, Galapagar,  Madrid Capital, San Agustín del Guadalix, Arganda del Rey, Las Rozas de Madrid,  Madrid Capital,  Madrid Capital, Las Rozas de Madrid, Boadilla del Monte,  Madrid Capital, Alcobendas, Majadahonda, Guadarrama,  Madrid Capital,  Madrid Capital, Las Rozas de Madrid,  Madrid Capital,  Madrid Capital,  Madrid Capital, Las Rozas de Madrid, Valdemoro, Rivas-vaciamadrid,  Madrid Capital,  Madrid Capital,  Madrid Capital, Rivas-vaciamadrid, Móstoles, Majadahonda, Pozuelo de Alarcón,  Madrid Capital, San Lorenzo de El Escorial, Collado Villalba,  Madrid Capital,  Madrid Capital,  Madrid Capital,  Madrid Capital,  Madrid Capital, Valdemorillo,  Madrid Capital, Valdemoro, Cubas de la Sagra, Getafe,  Madrid Capital, Alcorcón,  Madrid Capital,  Madrid Capital, Alcorcón,  Madrid Capital,  Madrid Capital,  Madrid Capital,  Madrid Capital,  Madrid Capital,  Madrid Capital,  Madrid Capital, Pozuelo de Alarcón,  Madrid Capital, Villanueva de la Cañada, Brunete, Fuenlabrada, El Escorial, Serranillos del Valle, Valdemorillo, Las Rozas de Madrid, Valdemorillo, Parla, Fuenlabrada, Leganés, Alcobendas,  Madrid Capital, Alcobendas, Fuenlabrada,  Madrid Capital,  Madrid Capital,  Madrid Capital,  Madrid Capital, Alcobendas,  Madrid Capital,  Madrid Capital, Fuenlabrada, Alcobendas,  Madrid Capital,  Madrid Capital, Alcobendas,  Madrid Capital, Fuenlabrada,  Madrid Capital,  Madrid Capital, Alcobendas,  Madrid Capital, Alcobendas, Torrejón de Ardoz,  Madrid Capital,  Madrid Capital,  Madrid Capital, Getafe,  Madrid Capital, Pozuelo de Alarcón, Valdemaqueda, Miraflores de la Sierra, Arroyomolinos (Madrid), Villaviciosa de Odón,  Madrid Capital, San Sebastián de los Reyes, Venturada,  Madrid Capital, Cercedilla, El Escorial,  Madrid Capital,  Madrid Capital,  Madrid Capital,  Madrid Capital,  Madrid Capital,  Madrid Capital,  Madrid Capital, Parla,  Madrid Capital, Boadilla del Monte, Móstoles, Pinto, Las Rozas de Madrid, Las Rozas de Madrid, Las Rozas de Madrid, Majadahonda,  Madrid Capital, Camarma de Esteruelas,  Madrid Capital,  Madrid Capital,  Madrid Capital,  Madrid Capital, Ciempozuelos,  Madrid Capital,  Madrid Capital, Alcalá de Henares,  Madrid Capital, San Sebastián de los Reyes, San Martín de Valdeiglesias, Las Rozas de Madrid, Las Rozas de Madrid,  Madrid Capital,  Madrid Capital, Gargantilla del Lozoya, Villanueva de la Cañada, Valdemoro, Parla,  Madrid Capital,  Madrid Capital, Garganta de los Montes,  Madrid Capital, Guadalix de la Sierra, Getafe,  Madrid Capital, Loeches, Getafe, El Boalo - Cerceda – Mataelpino,  Madrid Capital,  Madrid Capital, Villa del Prado, El Escorial,  Madrid Capital, Valdilecha, Valdemoro, Alcalá de Henares, Valdemoro, Tielmes, Arganda del Rey, Leganés, Navalcarnero, Fuenlabrada, Alcalá de Henares, Arroyomolinos (Madrid), Chinchón,  Madrid Capital,  Madrid Capital, Navalcarnero, Leganés,  Madrid Capital, Parla,  Madrid Capital, Las Rozas de Madrid,  Madrid Capital, Alcobendas,  Madrid Capital, San Sebastián de los Reyes, Coslada, Getafe, Valdilecha, Villa del Prado, Robledo de Chavela, Hoyo de Manzanares,  Madrid Capital,  Madrid Capital,  Madrid Capital,  Madrid Capital, Rascafría, Torrelodones, Villanueva del Pardillo,  Madrid Capital,  Madrid Capital, Robledo de Chavela,  Madrid Capital, Fuenlabrada, Torrejón de Ardoz,  Madrid Capital, Coslada, Villanueva del Pardillo,  Madrid Capital,  Madrid Capital, El Molar (Madrid),  Madrid Capital, Valdemorillo,  Madrid Capital,  Madrid Capital, El Escorial, Meco, Pinto, Guadalix de la Sierra, Mejorada del Campo, La Hiruela, Las Rozas de Madrid,  Madrid Capital,  Madrid Capital,  Madrid Capital, San Sebastián de los Reyes,  Madrid Capital, San Agustín del Guadalix, Humanes de Madrid,  Madrid Capital, Las Rozas de Madrid,  Madrid Capital,  Madrid Capital, Alcalá de Henares, Fuentidueña de Tajo,  Madrid Capital,  Madrid Capital, Navalcarnero, Villa del Prado, Rivas-vaciamadrid, Getafe, Campo Real, Arroyomolinos (Madrid),  Madrid Capital, Arroyomolinos (Madrid), Rivas-vaciamadrid,  Madrid Capital, Arroyomolinos (Madrid), Collado Villalba,  Madrid Capital,  Madrid Capital,  Madrid Capital, Los Santos de la Humosa, Coslada, Torrejón de la Calzada, Alcalá de Henares,  Madrid Capital, Ciempozuelos, Meco,  Madrid Capital,  Madrid Capital,  Madrid Capital, Las Rozas de Madrid,  Madrid Capital, Cadalso de los Vidrios,  Madrid Capital, Coslada,  Madrid Capital,  Madrid Capital, Camarma de Esteruelas, Getafe, Arganda del Rey, Torrejón de Ardoz, Villanueva de la Cañada, Brunete,  Madrid Capital, Villamanta, Talamanca de Jarama, Pozuelo del Rey, San Fernando de Henares, Villa del Prado, Villa del Prado,  Madrid Capital, Torrejón de Ardoz, Móstoles,  Madrid Capital, Villa del Prado, Villaviciosa de Odón, Villa del Prado, San Sebastián de los Reyes, Mejorada del Campo,  Madrid Capital, Villalbilla,  Madrid Capital, Guadarrama, Alpedrete, Navalcarnero, Alcorcón, Móstoles, Valdemoro, Guadarrama,  Madrid Capital, Navalcarnero, Valdeolmos-Alalpardo, San Lorenzo de El Escorial,  Madrid Capital, Aranjuez, Torrelodones, Humanes de Madrid, Coslada, Parla,  Madrid Capital,  Madrid Capital,  Madrid Capital,  Madrid Capital,  Madrid Capital,  Madrid Capital,  Madrid Capital,  Madrid Capital, Alcorcón,  Madrid Capital,  Madrid Capital,  Madrid Capital,  Madrid Capital,  Madrid Capital,  Madrid Capital,  Madrid Capital, Móstoles,  Madrid Capital,  Madrid Capital, Rivas-vaciamadrid,  Madrid Capital,  Madrid Capital,  Madrid Capital, Torrejón de Ardoz,  Madrid Capital, Móstoles, El Boalo - Cerceda – Mataelpino,  Madrid Capital, Torrejón de Ardoz,  Madrid Capital, Móstoles, El Boalo - Cerceda – Mataelpino,  Madrid Capital, Alcorcón, Arroyomolinos (Madrid),  Madrid Capital, Navalcarnero,  Madrid Capital,  Madrid Capital,  Madrid Capital,  Madrid Capital,  Madrid Capital,  Madrid Capital, Móstoles,  Madrid Capital,  Madrid Capital, Alcobendas, Valdetorres de Jarama,  Madrid Capital, Tres Cantos, Robledo de Chavela, Boadilla del Monte, Villaviciosa de Odón, Villanueva del Pardillo, Bustarviejo,  Madrid Capital,  Madrid Capital, Alcalá de Henares, Móstoles, Guadarrama,  Madrid Capital,  Madrid Capital,  Madrid Capital,  Madrid Capital, Montejo de la Sierra, Alcorcón,  Madrid Capital,  Madrid Capital,  Madrid Capital, Meco, Alcalá de Henares, Collado Villalba,  Madrid Capital,  Madrid Capital,  Madrid Capital,  Madrid Capital, San Martín de Valdeiglesias,  Madrid Capital,  Madrid Capital, Aranjuez, Leganés,  Madrid Capital,  Madrid Capital, Brunete, Camarma de Esteruelas, Pinto, Parla, Parla, Parla, Parla,  Madrid Capital, Parla,  Madrid Capital, Villaviciosa de Odón, Boadilla del Monte, El Álamo, El Álamo, El Álamo, El Álamo, El Álamo, Guadalix de la Sierra, El Álamo, Algete, El Álamo, El Álamo, Leganés, El Álamo, Aranjuez, El Álamo, El Álamo, Valdemoro, Las Rozas de Madrid, Campo Real, El Álamo, El Álamo,  Madrid Capital, Fuenlabrada, Fuenlabrada, Valdemoro,  Madrid Capital, Boadilla del Monte,  Madrid Capital,  Madrid Capital,  Madrid Capital, Guadalix de la Sierra,  Madrid Capital, Collado Villalba, Collado Villalba, Chapinería, Colmenar Viejo,  Madrid Capital, Valdemoro,  Madrid Capital, Leganés, Humanes de Madrid, Humanes de Madrid,  Madrid Capital, Humanes de Madrid, Humanes de Madrid,  Madrid Capital, Humanes de Madrid, Humanes de Madrid, Humanes de Madrid, Humanes de Madrid, Las Rozas de Madrid, Aranjuez, Alcalá de Henares, Fuenlabrada,  Madrid Capital,  Madrid Capital, El Escorial, Valdemoro,  Madrid Capital,  Madrid Capital,  Madrid Capital, Ciempozuelos,  Madrid Capital,  Madrid Capital, Moralzarzal, Moralzarzal, Mejorada del Campo,  Madrid Capital,  Madrid Capital, Moralzarzal, Fuenlabrada,  Madrid Capital,  Madrid Capital, Fuenlabrada,  Madrid Capital, El Escorial,  Madrid Capital, Pinto,  Madrid Capital, Velilla de San Antonio, Torrelodones, Velilla de San Antonio,  Madrid Capital"
   ]
  },
  {
   "cell_type": "code",
   "execution_count": null,
   "id": "d068ec4f",
   "metadata": {},
   "outputs": [],
   "source": [
    "import pandas as pd\n",
    "\n",
    "df = pd.read_csv('assets/real_estate.csv', sep=';')\n",
    "\n",
    "populations = df['level5'].dropna().tolist()\n",
    "\n",
    "populations_str = ', '.join(populations)\n",
    "\n",
    "print(populations_str)"
   ]
  },
  {
   "attachments": {},
   "cell_type": "markdown",
   "id": "crazy-blame",
   "metadata": {},
   "source": [
    "#### Exercise 05. Does the dataset contain NAs? (★☆☆)\n",
    "\n",
    "Print a boolean value (`True` or `False`) followed by the rows/cols that contains NAs."
   ]
  },
  {
   "cell_type": "code",
   "execution_count": null,
   "id": "transparent-poetry",
   "metadata": {},
   "outputs": [],
   "source": [
    "# True"
   ]
  },
  {
   "cell_type": "code",
   "execution_count": null,
   "id": "2d7b6ae0",
   "metadata": {},
   "outputs": [],
   "source": [
    "import pandas as pd\n",
    "\n",
    "df = pd.read_csv('assets/real_estate.csv', sep=';')\n",
    "\n",
    "has_nas = bool(df.isna().any().any())\n",
    "\n",
    "print(has_nas)\n"
   ]
  },
  {
   "attachments": {},
   "cell_type": "markdown",
   "id": "italic-hydrogen",
   "metadata": {},
   "source": [
    "#### Exercise 06. Delete the NAs of the dataset, if applicable (★★☆)\n",
    "\n",
    "Print a comparison between the dimensions of the original DataFrame versus the DataFrame after the deletions."
   ]
  },
  {
   "cell_type": "code",
   "execution_count": null,
   "id": "administrative-roads",
   "metadata": {},
   "outputs": [],
   "source": [
    "# Orginal dimensions (15335, 37)\n",
    "# New Dimensions (0, 37)"
   ]
  },
  {
   "cell_type": "code",
   "execution_count": null,
   "id": "91423126",
   "metadata": {},
   "outputs": [],
   "source": [
    "import pandas as pd\n",
    "\n",
    "df = pd.read_csv('assets/real_estate.csv', sep=';')\n",
    "\n",
    "original_shape = df.shape\n",
    "\n",
    "df_cleaned = df.dropna()\n",
    "\n",
    "new_shape = df_cleaned.shape\n",
    "\n",
    "print(f\"Original dimensions: {original_shape}\")\n",
    "print(f\"Dimensions after deleting NAs: {new_shape}\")"
   ]
  },
  {
   "attachments": {},
   "cell_type": "markdown",
   "id": "middle-china",
   "metadata": {},
   "source": [
    "#### Exercise 07. Which is the mean of prices in the population (level5 column) of \"Arroyomolinos (Madrid)\"? (★★☆)\n",
    "\n",
    "Print the obtained value."
   ]
  },
  {
   "cell_type": "code",
   "execution_count": null,
   "id": "nuclear-belief",
   "metadata": {},
   "outputs": [],
   "source": [
    "# The mean price is $294541.6"
   ]
  },
  {
   "cell_type": "code",
   "execution_count": null,
   "id": "559bf0c2",
   "metadata": {},
   "outputs": [],
   "source": [
    "import pandas as pd\n",
    "\n",
    "df = pd.read_csv('assets/real_estate.csv', sep=';')\n",
    "\n",
    "filtered_df = df[df['level5'] == 'Arroyomolinos (Madrid)']\n",
    "\n",
    "mean_price = filtered_df['price'].mean()\n",
    "\n",
    "print(f\"The mean price for the population 'Arroyomolinos (Madrid)' is: ${mean_price:.2f}\")"
   ]
  },
  {
   "attachments": {},
   "cell_type": "markdown",
   "id": "concerned-radical",
   "metadata": {},
   "source": [
    "#### Exercise 08. Plot the histogram of prices for the population (level5 column) of \"Arroyomolinos (Madrid)\" and explain what you observe (★★☆)\n",
    "\n",
    "Print the histogram of the prices and write in the Markdown cell a brief analysis about the plot."
   ]
  },
  {
   "cell_type": "code",
   "execution_count": null,
   "id": "sudden-message",
   "metadata": {},
   "outputs": [],
   "source": [
    "# The prices of properties in \"Arroyomolinos (Madrid)\" range from $0 to $580,000, with a mean price of $294,000. The 25th percentile is $229,900, indicating that 25% of properties are priced below this amount. The median price is $289,000, meaning half of the properties are priced below this value. The 75th percentile is $348,900, showing that 75% of properties are priced below this higher threshold."
   ]
  },
  {
   "cell_type": "code",
   "execution_count": null,
   "id": "af9a50c3",
   "metadata": {},
   "outputs": [],
   "source": [
    "import pandas as pd\n",
    "import matplotlib.pyplot as plt\n",
    "\n",
    "df = pd.read_csv('assets/real_estate.csv', sep=';')\n",
    "\n",
    "filtered_df = df[df['level5'] == 'Arroyomolinos (Madrid)']\n",
    "\n",
    "plt.figure(figsize=(10, 6))\n",
    "plt.hist(filtered_df['price'].dropna(), bins=30, edgecolor='black')\n",
    "plt.title('Histogram of Prices for Arroyomolinos (Madrid)')\n",
    "plt.xlabel('Price')\n",
    "plt.ylabel('Frequency')\n",
    "plt.grid(True)\n",
    "plt.show()\n"
   ]
  },
  {
   "attachments": {},
   "cell_type": "markdown",
   "id": "impressed-combination",
   "metadata": {},
   "source": [
    "**TODO: Markdown**. To write here, double-click on this cell, remove this content and place the text you want to write. Then, execute the cell."
   ]
  },
  {
   "attachments": {},
   "cell_type": "markdown",
   "id": "actual-edinburgh",
   "metadata": {},
   "source": [
    "#### Exercise 09. Are the average prices of \"Valdemorillo\" and \"Galapagar\" the same? (★★☆)\n",
    "\n",
    "Print both average prices and then write a conclusion about them."
   ]
  },
  {
   "cell_type": "code",
   "execution_count": null,
   "id": "numeric-commerce",
   "metadata": {},
   "outputs": [],
   "source": [
    "# Average price in Valdemoriilo $363860.29\n",
    "# Average price in Galapager: $360063.20\n",
    "# The average price in Valdemorillo and Galapagar are diffreent by $3,797.09"
   ]
  },
  {
   "cell_type": "code",
   "execution_count": null,
   "id": "f50a206d",
   "metadata": {},
   "outputs": [],
   "source": [
    "import pandas as pd\n",
    "\n",
    "df = pd.read_csv('assets/real_estate.csv', sep=';')\n",
    "\n",
    "valdemorillo_prices = df[df['level5'] == 'Valdemorillo']['price']\n",
    "galapagar_prices = df[df['level5'] == 'Galapagar']['price']\n",
    "\n",
    "average_valdemorillo = valdemorillo_prices.mean()\n",
    "average_galapagar = galapagar_prices.mean()\n",
    "\n",
    "print(f\"Average price in Valdemorillo: ${average_valdemorillo:.2f}\")\n",
    "print(f\"Average price in Galapagar: ${average_galapagar:.2f}\")\n",
    "\n",
    "if average_valdemorillo == average_galapagar:\n",
    "    conclusion = \"The average prices in Valdemorillo and Galapagar are the same.\"\n",
    "else:\n",
    "    conclusion = \"The average prices in Valdemorillo and Galapagar are different.\"\n",
    "\n",
    "print(conclusion)"
   ]
  },
  {
   "attachments": {},
   "cell_type": "markdown",
   "id": "lonely-article",
   "metadata": {},
   "source": [
    "#### Exercise 10. Are the average prices per square meter (price/m2) of \"Valdemorillo\" and \"Galapagar\" the same? (★★☆)\n",
    "\n",
    "Print both average prices and then write a conclusion about it.\n",
    "\n",
    "Hint: Create a new column called `pps` (price per square meter) and then analyze the values."
   ]
  },
  {
   "cell_type": "code",
   "execution_count": null,
   "id": "hourly-globe",
   "metadata": {},
   "outputs": [],
   "source": [
    "# Average price per square meter in Valdemorrilo: $1317.95\n",
    "# Average price per square meter in Galapagar : $1606.32\n",
    "# The average price per square eter in Valdemorillo and Galapagar are different by $288.37"
   ]
  },
  {
   "cell_type": "code",
   "execution_count": null,
   "id": "23d4b8f3",
   "metadata": {},
   "outputs": [],
   "source": [
    "import pandas as pd\n",
    "\n",
    "df = pd.read_csv('assets/real_estate.csv', sep=';')\n",
    "\n",
    "df['pps'] = df['price'] / df['surface']\n",
    "\n",
    "valdemorillo_pps = df[df['level5'] == 'Valdemorillo']['pps']\n",
    "galapagar_pps = df[df['level5'] == 'Galapagar']['pps']\n",
    "\n",
    "average_pps_valdemorillo = valdemorillo_pps.mean()\n",
    "average_pps_galapagar = galapagar_pps.mean()\n",
    "\n",
    "print(f\"Average price per square meter in Valdemorillo: ${average_pps_valdemorillo:.2f}\")\n",
    "print(f\"Average price per square meter in Galapagar: ${average_pps_galapagar:.2f}\")\n",
    "\n",
    "if average_pps_valdemorillo == average_pps_galapagar:\n",
    "    conclusion = \"The average prices per square meter in Valdemorillo and Galapagar are the same.\"\n",
    "else:\n",
    "    conclusion = \"The average prices per square meter in Valdemorillo and Galapagar are different.\"\n",
    "\n",
    "print(conclusion)\n"
   ]
  },
  {
   "attachments": {},
   "cell_type": "markdown",
   "id": "pleasant-invite",
   "metadata": {},
   "source": [
    "#### Exercise 11. Analyze the relation between the surface and the price of the houses (★★☆)\n",
    "\n",
    "Hint: You can make a `scatter plot`, then write a conclusion about it."
   ]
  },
  {
   "cell_type": "code",
   "execution_count": null,
   "id": "common-drilling",
   "metadata": {},
   "outputs": [],
   "source": [
    "import pandas as pd\n",
    "import matplotlib.pyplot as plt\n",
    "\n",
    "df = pd.read_csv('assets/real_estate.csv', sep=';')\n",
    "\n",
    "plt.figure(figsize=(10, 6))\n",
    "plt.scatter(df['Surface'], df['Price'], alpha=0.5, edgecolor='k')\n",
    "plt.title('Scatter Plot of Surface vs Price')\n",
    "plt.xlabel('Surface (m²)')\n",
    "plt.ylabel('Price (USD)')\n",
    "plt.grid(True)\n",
    "plt.show()\n"
   ]
  },
  {
   "attachments": {},
   "cell_type": "markdown",
   "id": "ahead-liquid",
   "metadata": {},
   "source": [
    "**TODO: Markdown**. To write here, double-click on this cell, remove this content and place the text you want to write. Then, execute the cell."
   ]
  },
  {
   "attachments": {},
   "cell_type": "markdown",
   "id": "coordinate-sunrise",
   "metadata": {},
   "source": [
    "#### Exercise 12. How many real estate agencies does the dataset contain? (★★☆)\n",
    "\n",
    "Print the obtained value."
   ]
  },
  {
   "cell_type": "code",
   "execution_count": null,
   "id": "valid-honolulu",
   "metadata": {},
   "outputs": [],
   "source": [
    "# 14217"
   ]
  },
  {
   "cell_type": "code",
   "execution_count": null,
   "id": "48c52bee",
   "metadata": {},
   "outputs": [],
   "source": [
    "import pandas as pd\n",
    "\n",
    "df = pd.read_csv('assets/real_estate.csv', sep=';')\n",
    "\n",
    "num_agents = df['id_realEstates'].nunique()\n",
    "\n",
    "print(f\"Number of unique real estate agents in the dataset: {num_agents}\")"
   ]
  },
  {
   "attachments": {},
   "cell_type": "markdown",
   "id": "binding-ebony",
   "metadata": {},
   "source": [
    "#### Exercise 13. Which is the population (level5 column) that contains the most houses? (★★☆)\n",
    "\n",
    "Print both the population and the number of houses."
   ]
  },
  {
   "cell_type": "code",
   "execution_count": null,
   "id": "static-perry",
   "metadata": {},
   "outputs": [],
   "source": [
    "# Population with the most houses: Madrid Capital \n",
    "# Number of Houses: 6643"
   ]
  },
  {
   "cell_type": "code",
   "execution_count": null,
   "id": "4e29d101",
   "metadata": {},
   "outputs": [],
   "source": [
    "import pandas as pd\n",
    "\n",
    "df = pd.read_csv('assets/real_estate.csv', sep=';')\n",
    "\n",
    "house_counts = df['level5'].value_counts()\n",
    "\n",
    "\n",
    "most_houses_population = house_counts.idxmax()\n",
    "most_houses_count = house_counts.max()\n",
    "\n",
    "print(f\"Population with the most houses: {most_houses_population}\")\n",
    "print(f\"Number of houses: {most_houses_count}\")"
   ]
  },
  {
   "attachments": {},
   "cell_type": "markdown",
   "id": "entire-classification",
   "metadata": {},
   "source": [
    "#### Exercise 14. Now let's work with the \"south belt\" of Madrid. Make a subset of the original DataFrame that contains the following populations (level5 column): \"Fuenlabrada\", \"Leganés\", \"Getafe\", \"Alcorcón\" (★★☆)\n",
    "\n",
    "Hint: Filter the original DataFrame using the column `level5` and the function `isin`."
   ]
  },
  {
   "cell_type": "code",
   "execution_count": null,
   "id": "binary-input",
   "metadata": {},
   "outputs": [],
   "source": [
    "import pandas as pd\n",
    "\n",
    "df = pd.read_csv('assets/real_estate.csv', sep=';')\n",
    "\n",
    "south_belt_populations = [\"Fuenlabrada\", \"Leganés\", \"Getafe\", \"Alcorcón\"]\n",
    "\n",
    "south_belt_df = df[df['level5'].isin(south_belt_populations)]\n",
    "\n",
    "print(south_belt_df)\n"
   ]
  },
  {
   "attachments": {},
   "cell_type": "markdown",
   "id": "severe-fisher",
   "metadata": {},
   "source": [
    "#### Exercise 15. Make a bar plot of the median of the prices and explain what you observe (you must use the subset obtained in Exercise 14) (★★★)\n",
    "\n",
    "Print the bar of the median of the prices and write in the Markdown cell a brief analysis about the plot."
   ]
  },
  {
   "cell_type": "code",
   "execution_count": null,
   "id": "lyric-bunch",
   "metadata": {},
   "outputs": [],
   "source": [
    "# The bar plot shows the median prices of properties in four populations of the south belt of Madrid. \"Fuenlabrada\" has the highest median price, followed by \"Getafe\", \"Leganés\", and \"Alcorcón\", which have relatively lower median prices. The plot provides a clear visual representation of how median property prices compare across these populations."
   ]
  },
  {
   "cell_type": "code",
   "execution_count": null,
   "id": "e281c94b",
   "metadata": {},
   "outputs": [],
   "source": [
    "import pandas as pd\n",
    "import matplotlib.pyplot as plt\n",
    "\n",
    "df = pd.read_csv('assets/real_estate.csv', sep=';')\n",
    "\n",
    "south_belt_populations = [\"Fuenlabrada\", \"Leganés\", \"Getafe\", \"Alcorcón\"]\n",
    "\n",
    "south_belt_df = df[df['level5'].isin(south_belt_populations)]\n",
    "\n",
    "median_prices = south_belt_df.groupby('level5')['Price'].median()\n",
    "\n",
    "\n",
    "plt.figure(figsize=(10, 6))\n",
    "median_prices.plot(kind='bar', color='skyblue', edgecolor='black')\n",
    "plt.title('Median Prices of Properties in the South Belt of Madrid')\n",
    "plt.xlabel('Population')\n",
    "plt.ylabel('Median Price (USD)')\n",
    "plt.grid(axis='y', linestyle='--', alpha=0.7)\n",
    "plt.xticks(rotation=45)\n",
    "plt.tight_layout()\n",
    "plt.show()\n"
   ]
  },
  {
   "attachments": {},
   "cell_type": "markdown",
   "id": "sublime-newspaper",
   "metadata": {},
   "source": [
    "**TODO: Markdown**. To write here, double-click on this cell, remove this content and place the text you want to write. Then, execute the cell."
   ]
  },
  {
   "attachments": {},
   "cell_type": "markdown",
   "id": "speaking-diamond",
   "metadata": {},
   "source": [
    "#### Exercise 16. Calculate the sample mean and variance of the variables: price, rooms, surface area and bathrooms (you must use the subset obtained in Exercise 14) (★★★)\n",
    "\n",
    "Print both values for each variable."
   ]
  },
  {
   "cell_type": "code",
   "execution_count": null,
   "id": "856cff5b",
   "metadata": {},
   "outputs": [],
   "source": [
    "# Variable: Price\n",
    "# Sample Mean: 223094.48\n",
    "# Sample Variance: 14921367508.05\n",
    "\n",
    "# Variable: Rooms \n",
    "# Sample Mean: 3.02\n",
    "# Sample Variance: 0.72\n",
    "\n",
    "# Variable: Surface\n",
    "# Sample Mean: 111.75\n",
    "# Sample Variance: 4264.05"
   ]
  },
  {
   "cell_type": "code",
   "execution_count": null,
   "id": "random-feeling",
   "metadata": {},
   "outputs": [],
   "source": [
    "import pandas as pd\n",
    "\n",
    "df = pd.read_csv('assets/real_estate.csv', sep=';')\n",
    "\n",
    "south_belt_populations = [\"Fuenlabrada\", \"Leganés\", \"Getafe\", \"Alcorcón\"]\n",
    "\n",
    "south_belt_df = df[df['level5'].isin(south_belt_populations)]\n",
    "\n",
    "\n",
    "variables = ['price', 'rooms', 'surface', 'bathrooms']\n",
    "stats = {var: {'mean': south_belt_df[var].mean(), 'variance': south_belt_df[var].var()} for var in variables}\n",
    "\n",
    "\n",
    "for var, stat in stats.items():\n",
    "    print(f\"Variable: {var}\")\n",
    "    print(f\"Sample Mean: {stat['mean']:.2f}\")\n",
    "    print(f\"Sample Variance: {stat['variance']:.2f}\")\n",
    "    print() \n"
   ]
  },
  {
   "attachments": {},
   "cell_type": "markdown",
   "id": "revolutionary-matrix",
   "metadata": {},
   "source": [
    "#### Exercise 17. What is the most expensive house in each population? You must use the subset obtained in Exercise 14 (★★☆)\n",
    "\n",
    "Print both the address and the price of the selected house of each population. You can print a DataFrame or a single line for each population."
   ]
  },
  {
   "cell_type": "code",
   "execution_count": null,
   "id": "fifteen-browse",
   "metadata": {},
   "outputs": [],
   "source": [
    "# Population: Alcoron\n",
    "# Address: Alcoron\n",
    "# Price: $950000.00\n",
    "\n",
    "# Population: Fuenlabrada\n",
    "# Address: Calle de Paulo Freire, 5, Fuenlabrada\n",
    "# Price: $490000.00\n",
    "\n",
    "# Population: Getafe\n",
    "# Address: Getafe\n",
    "# Price: $1050000.00\n",
    "\n",
    "# Population: Leganes\n",
    "# Address: Avenida Reina Sofia\n",
    "# Price: $650000.00"
   ]
  },
  {
   "cell_type": "code",
   "execution_count": null,
   "id": "51fc4070",
   "metadata": {},
   "outputs": [],
   "source": [
    "import pandas as pd\n",
    "\n",
    "df = pd.read_csv('assets/real_estate.csv', sep=';')\n",
    "\n",
    "\n",
    "south_belt_populations = [\"Fuenlabrada\", \"Leganés\", \"Getafe\", \"Alcorcón\"]\n",
    "\n",
    "south_belt_df = df[df['level5'].isin(south_belt_populations)]\n",
    "\n",
    "most_expensive_houses = south_belt_df.loc[south_belt_df.groupby('level5')['price'].idxmax()]\n",
    "\n",
    "\n",
    "for _, row in most_expensive_houses.iterrows():\n",
    "    print(f\"Population: {row['level5']}\")\n",
    "    print(f\"Address: {row['address']}\")\n",
    "    print(f\"Price: ${row['price']:.2f}\")\n",
    "    print()  "
   ]
  },
  {
   "attachments": {},
   "cell_type": "markdown",
   "id": "activated-knight",
   "metadata": {},
   "source": [
    "#### Exercise 18. Normalize the variable of prices for each population and plot the 4 histograms in the same plot (you must use the subset obtained in Exercise 14) (★★★)\n",
    "\n",
    "For the normalization method, you can use the one you consider; there is not a single correct answer to this question. Print the plot and write in the Markdown cell a brief analysis about the plot.\n",
    "\n",
    "Hint: You can help yourself by reviewing the *multihist* demo of Matplotlib."
   ]
  },
  {
   "cell_type": "code",
   "execution_count": null,
   "id": "civic-meditation",
   "metadata": {},
   "outputs": [],
   "source": [
    "# TODO"
   ]
  },
  {
   "cell_type": "code",
   "execution_count": null,
   "id": "f4128f04",
   "metadata": {},
   "outputs": [],
   "source": []
  },
  {
   "attachments": {},
   "cell_type": "markdown",
   "id": "precise-heavy",
   "metadata": {},
   "source": [
    "**TODO: Markdown**. To write here, double-click on this cell, remove this content and place the text you want to write. Then, execute the cell."
   ]
  },
  {
   "attachments": {},
   "cell_type": "markdown",
   "id": "patent-jonathan",
   "metadata": {},
   "source": [
    "#### Exercise 19. What can you say about the price per square meter (price/m2) between the towns of \"Getafe\" and \"Alcorcón\"? You must use the subset obtained in Exercise 14 (★★☆)\n",
    "\n",
    "Hint: Create a new column called `pps` (price per square meter) and then analyze the values."
   ]
  },
  {
   "cell_type": "code",
   "execution_count": null,
   "id": "initial-liverpool",
   "metadata": {},
   "outputs": [],
   "source": [
    "# Alcoron has a higher pps compared to Getafe. Based on the data Alcoron is in a more prime real estate area than Getafe."
   ]
  },
  {
   "cell_type": "code",
   "execution_count": null,
   "id": "682c261c",
   "metadata": {},
   "outputs": [],
   "source": [
    "import pandas as pd\n",
    "\n",
    "df = pd.read_csv('assets/real_estate.csv', sep=';')\n",
    "\n",
    "south_belt_populations = [\"Fuenlabrada\", \"Leganés\", \"Getafe\", \"Alcorcón\"]\n",
    "\n",
    "south_belt_df = df[df['level5'].isin(south_belt_populations)]\n",
    "\n",
    "south_belt_df['pps'] = south_belt_df['price'] / south_belt_df['surface']\n",
    "\n",
    "getafe_alcorcon_df = south_belt_df[south_belt_df['level5'].isin(['Getafe', 'Alcorcón'])]\n",
    "\n",
    "statistics = getafe_alcorcon_df.groupby('level5')['pps'].describe()\n",
    "\n",
    "print(statistics)"
   ]
  },
  {
   "attachments": {},
   "cell_type": "markdown",
   "id": "enhanced-moscow",
   "metadata": {},
   "source": [
    "#### Exercise 20. Make the same plot for 4 different populations (level5 column) and rearrange them on the same graph. You must use the subset obtained in Exercise 14 (★★☆)\n",
    " \n",
    "Hint: Make a scatter plot of each population using subplots."
   ]
  },
  {
   "cell_type": "code",
   "execution_count": null,
   "id": "accepting-airfare",
   "metadata": {},
   "outputs": [],
   "source": [
    "# TODO"
   ]
  },
  {
   "attachments": {},
   "cell_type": "markdown",
   "id": "blocked-effects",
   "metadata": {},
   "source": [
    "#### Exercise 21. Make a plot of the coordinates (latitude and longitude columns) of the south belt of Madrid by color of each population (you must use the subset obtained in Exercise 14) (★★★★)\n",
    "\n",
    "Execute the following cell, and then start coding in the next one. You must implement a simple code that transforms the coordinates columns in a Python dictionary (add more information if needed) and then add it to the map"
   ]
  },
  {
   "cell_type": "code",
   "execution_count": null,
   "id": "headed-privacy",
   "metadata": {},
   "outputs": [],
   "source": [
    "from ipyleaflet import Map, basemaps\n",
    "\n",
    "# Map centered on (60 degrees latitude and -2.2 degrees longitude)\n",
    "# Latitude, longitude\n",
    "map = Map(center = (60, -2.2), zoom = 2, min_zoom = 1, max_zoom = 20, \n",
    "    basemap=basemaps.Stamen.Terrain)\n",
    "map"
   ]
  },
  {
   "cell_type": "code",
   "execution_count": null,
   "id": "present-mistress",
   "metadata": {},
   "outputs": [],
   "source": [
    "## HERE: plot the coordinates of the estates\n",
    "\n",
    "## PUT HERE YOUR CODE:\n"
   ]
  }
 ],
 "metadata": {
  "kernelspec": {
   "display_name": "Python 3",
   "language": "python",
   "name": "python3"
  },
  "language_info": {
   "codemirror_mode": {
    "name": "ipython",
    "version": 3
   },
   "file_extension": ".py",
   "mimetype": "text/x-python",
   "name": "python",
   "nbconvert_exporter": "python",
   "pygments_lexer": "ipython3",
   "version": "3.11.4"
  }
 },
 "nbformat": 4,
 "nbformat_minor": 5
}
